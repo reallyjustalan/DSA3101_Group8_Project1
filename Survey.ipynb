{
 "cells": [
  {
   "cell_type": "code",
   "execution_count": 15,
   "metadata": {},
   "outputs": [
    {
     "name": "stdout",
     "output_type": "stream",
     "text": [
      "Renamed columns:\n",
      "['Age', 'Gender', 'LastVisit', 'SpecialOccasionFlag', 'SpecialOccasionType', 'VisitPeriodYear', 'VisitPeriodDay', 'VisitedParks', 'OtherPark', 'VisitFrequency', 'PlanningConsiderations', 'PlannedAttractions', 'OtherPlannedAttraction', 'VisitedAttractions', 'OtherVisitedAttraction', 'WiFiQuality', 'PainPoints', 'OtherPainPoints', 'SuggestedImprovements']\n"
     ]
    }
   ],
   "source": [
    "import pandas as pd\n",
    "import numpy as np\n",
    "\n",
    "# Load the data\n",
    "df = pd.read_csv('./data/SurveyData.csv')\n",
    "\n",
    "rename_mapping = {\n",
    "    'Timestamp': 'Timestamp',\n",
    "    'I consent and am aware that my responses in this survey will be collected for data analysis': 'Consent',\n",
    "    'What is your age?': 'Age',\n",
    "    'What is your gender': 'Gender',\n",
    "    'When was your last theme park visit? (MM/YYYY)': 'LastVisit',\n",
    "    'Were there any special occasions that prompted the visit? (etc Christmas, school holidays, weekends)': 'SpecialOccasionFlag',\n",
    "    'If you answered yes for above, which special occasion was it?': 'SpecialOccasionType',\n",
    "    'Which period of the year do you normally visit the theme park? ': 'VisitPeriodYear',\n",
    "    'Which period of the day do you normally visit the theme park? (Opening time, early afternoon, late afternoon, evening)': 'VisitPeriodDay',\n",
    "    'Which theme parks have you visited?': 'VisitedParks',\n",
    "    'If you answered \"Others\", please state the theme park': 'OtherPark',\n",
    "    'How frequently do you visit theme parks?': 'VisitFrequency',\n",
    "    'What are your considerations when planning your theme park visits?': 'PlanningConsiderations',\n",
    "    'Which attractions or rides do you plan to visit when you go visit a theme park? Pick up to 2-3': 'PlannedAttractions',\n",
    "    'If you stated others, please state the attraction': 'OtherPlannedAttraction',\n",
    "    'Which attractions or rides do you end up visiting? Pick up to 2-3': 'VisitedAttractions',\n",
    "    'If you stated others, please state the attraction.1': 'OtherVisitedAttraction',\n",
    "    'How was the WiFi quality in the theme park?': 'WiFiQuality',\n",
    "    'What are some pain points you have experienced?': 'PainPoints',\n",
    "    'If you answered \"Others\", please state the pain points': 'OtherPainPoints',\n",
    "    'What do you hope can be implemented to overcome said challenges?': 'SuggestedImprovements'\n",
    "}\n",
    "\n",
    "\n",
    "df.rename(columns=rename_mapping, inplace=True)\n",
    "df.drop(columns=['Timestamp', 'Consent'], inplace=True)\n",
    "print(\"Renamed columns:\")\n",
    "print(df.columns.tolist())"
   ]
  },
  {
   "cell_type": "code",
   "execution_count": 20,
   "metadata": {},
   "outputs": [
    {
     "name": "stdout",
     "output_type": "stream",
     "text": [
      "\n",
      "Real responses: 132; Synthetic responses to generate: 68\n"
     ]
    }
   ],
   "source": [
    "# --- Synthetic Data Generation ---\n",
    "target_total = 200\n",
    "num_synthetic = target_total - len(df)\n",
    "print(f\"\\nReal responses: {len(df)}; Synthetic responses to generate: {num_synthetic}\")\n",
    "\n",
    "cols = df.columns.tolist()\n",
    "\n",
    "synthetic_data = {}\n",
    "for col in cols:\n",
    "    if df[col].dropna().empty:\n",
    "        synthetic_data[col] = [np.nan] * num_synthetic\n",
    "    else:\n",
    "        synthetic_data[col] = df[col].dropna().sample(n=num_synthetic, replace=True).reset_index(drop=True)\n",
    "\n",
    "df_synthetic = pd.DataFrame(synthetic_data)\n",
    "\n",
    "df_combined = pd.concat([df, df_synthetic], ignore_index=True)\n",
    "df_combined.to_csv('./data/Synthesised_Surveydata.csv', index=False)"
   ]
  }
 ],
 "metadata": {
  "kernelspec": {
   "display_name": "Python 3",
   "language": "python",
   "name": "python3"
  },
  "language_info": {
   "codemirror_mode": {
    "name": "ipython",
    "version": 3
   },
   "file_extension": ".py",
   "mimetype": "text/x-python",
   "name": "python",
   "nbconvert_exporter": "python",
   "pygments_lexer": "ipython3",
   "version": "3.11.9"
  }
 },
 "nbformat": 4,
 "nbformat_minor": 2
}
