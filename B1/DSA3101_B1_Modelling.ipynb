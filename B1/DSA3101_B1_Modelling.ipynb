{
 "cells": [
  {
   "cell_type": "markdown",
   "id": "ca10c756-6462-4743-a58d-c472fd33531f",
   "metadata": {},
   "source": [
    "# Model Selection & Training"
   ]
  },
  {
   "cell_type": "markdown",
   "id": "9b4a4ba9-b52c-4146-b2f3-f493d7ecdca1",
   "metadata": {},
   "source": [
    "## Importing neccessary packages"
   ]
  },
  {
   "cell_type": "code",
   "execution_count": 4,
   "id": "c429d632-ed5d-4480-917f-4572c9ec72c1",
   "metadata": {},
   "outputs": [],
   "source": [
    "from sklearn.preprocessing import StandardScaler\n",
    "from sklearn.ensemble import RandomForestRegressor\n",
    "from sklearn.linear_model import LinearRegression, Ridge, Lasso, ElasticNet\n",
    "from sklearn.tree import DecisionTreeRegressor\n",
    "from sklearn.metrics import mean_squared_error, mean_absolute_error, make_scorer\n",
    "from sklearn.model_selection import GridSearchCV,train_test_split,cross_val_score\n",
    "import matplotlib.pyplot as plt\n",
    "import numpy as np\n",
    "import pandas as pd"
   ]
  },
  {
   "cell_type": "markdown",
   "id": "00604750-e2c6-4e72-9bf4-9c1450a912af",
   "metadata": {},
   "source": [
    "## Engineering the Response variable"
   ]
  },
  {
   "cell_type": "markdown",
   "id": "19f21eb0-cf19-458a-8077-d9a92621fa11",
   "metadata": {},
   "source": [
    "Below, we derive a response variable called \"Demand_Score\", which allocates a score estimating the level of demand for the particular attraction. This score is derived from the average of 2 standardized variables, \"Max_wait_time_std\" and \"Total_units_std\". We standardize them as we do not want either of the 2 variables to dominate over the other when computing the score, especially since we observe that \"Total_units\" has significantly larger values than \"Max_wait_time\"."
   ]
  },
  {
   "cell_type": "code",
   "execution_count": 6,
   "id": "38716afd-e0d0-413f-89eb-c99ad1ba99e1",
   "metadata": {},
   "outputs": [
    {
     "data": {
      "text/html": [
       "<div>\n",
       "<style scoped>\n",
       "    .dataframe tbody tr th:only-of-type {\n",
       "        vertical-align: middle;\n",
       "    }\n",
       "\n",
       "    .dataframe tbody tr th {\n",
       "        vertical-align: top;\n",
       "    }\n",
       "\n",
       "    .dataframe thead th {\n",
       "        text-align: right;\n",
       "    }\n",
       "</style>\n",
       "<table border=\"1\" class=\"dataframe\">\n",
       "  <thead>\n",
       "    <tr style=\"text-align: right;\">\n",
       "      <th></th>\n",
       "      <th>Park_Fatalities_Previous_Year</th>\n",
       "      <th>Fraction of Not Rainy</th>\n",
       "      <th>Fraction of Rainy</th>\n",
       "      <th>Drought Count</th>\n",
       "      <th>Flooding Count</th>\n",
       "      <th>Freeze Count</th>\n",
       "      <th>Severe Storm Count</th>\n",
       "      <th>Tropical Cyclone Count</th>\n",
       "      <th>Wildfire Count</th>\n",
       "      <th>Winter Storm Count</th>\n",
       "      <th>...</th>\n",
       "      <th>Attraction_Spinning Coaster</th>\n",
       "      <th>Attraction_Spiral Slide</th>\n",
       "      <th>Attraction_Superman Ride</th>\n",
       "      <th>Attraction_Swing Ride</th>\n",
       "      <th>Attraction_Tilt-A-Whirl</th>\n",
       "      <th>Attraction_Top Spin</th>\n",
       "      <th>Attraction_Vertical Drop</th>\n",
       "      <th>Attraction_Water Ride</th>\n",
       "      <th>Attraction_Zipline</th>\n",
       "      <th>Demand_Score</th>\n",
       "    </tr>\n",
       "  </thead>\n",
       "  <tbody>\n",
       "    <tr>\n",
       "      <th>0</th>\n",
       "      <td>2</td>\n",
       "      <td>0.935484</td>\n",
       "      <td>0.064516</td>\n",
       "      <td>0.0</td>\n",
       "      <td>0.0</td>\n",
       "      <td>0.0</td>\n",
       "      <td>0.166667</td>\n",
       "      <td>0.083333</td>\n",
       "      <td>0.0</td>\n",
       "      <td>0.0</td>\n",
       "      <td>...</td>\n",
       "      <td>0</td>\n",
       "      <td>0</td>\n",
       "      <td>0</td>\n",
       "      <td>0</td>\n",
       "      <td>0</td>\n",
       "      <td>0</td>\n",
       "      <td>0</td>\n",
       "      <td>0</td>\n",
       "      <td>0</td>\n",
       "      <td>0.267251</td>\n",
       "    </tr>\n",
       "    <tr>\n",
       "      <th>1</th>\n",
       "      <td>2</td>\n",
       "      <td>0.935484</td>\n",
       "      <td>0.064516</td>\n",
       "      <td>0.0</td>\n",
       "      <td>0.0</td>\n",
       "      <td>0.0</td>\n",
       "      <td>0.166667</td>\n",
       "      <td>0.083333</td>\n",
       "      <td>0.0</td>\n",
       "      <td>0.0</td>\n",
       "      <td>...</td>\n",
       "      <td>0</td>\n",
       "      <td>0</td>\n",
       "      <td>0</td>\n",
       "      <td>0</td>\n",
       "      <td>0</td>\n",
       "      <td>0</td>\n",
       "      <td>0</td>\n",
       "      <td>0</td>\n",
       "      <td>0</td>\n",
       "      <td>-0.137697</td>\n",
       "    </tr>\n",
       "    <tr>\n",
       "      <th>2</th>\n",
       "      <td>2</td>\n",
       "      <td>0.935484</td>\n",
       "      <td>0.064516</td>\n",
       "      <td>0.0</td>\n",
       "      <td>0.0</td>\n",
       "      <td>0.0</td>\n",
       "      <td>0.166667</td>\n",
       "      <td>0.083333</td>\n",
       "      <td>0.0</td>\n",
       "      <td>0.0</td>\n",
       "      <td>...</td>\n",
       "      <td>0</td>\n",
       "      <td>0</td>\n",
       "      <td>0</td>\n",
       "      <td>0</td>\n",
       "      <td>0</td>\n",
       "      <td>0</td>\n",
       "      <td>0</td>\n",
       "      <td>0</td>\n",
       "      <td>0</td>\n",
       "      <td>1.375315</td>\n",
       "    </tr>\n",
       "    <tr>\n",
       "      <th>3</th>\n",
       "      <td>2</td>\n",
       "      <td>0.935484</td>\n",
       "      <td>0.064516</td>\n",
       "      <td>0.0</td>\n",
       "      <td>0.0</td>\n",
       "      <td>0.0</td>\n",
       "      <td>0.166667</td>\n",
       "      <td>0.083333</td>\n",
       "      <td>0.0</td>\n",
       "      <td>0.0</td>\n",
       "      <td>...</td>\n",
       "      <td>0</td>\n",
       "      <td>0</td>\n",
       "      <td>0</td>\n",
       "      <td>0</td>\n",
       "      <td>0</td>\n",
       "      <td>0</td>\n",
       "      <td>0</td>\n",
       "      <td>0</td>\n",
       "      <td>0</td>\n",
       "      <td>-0.635457</td>\n",
       "    </tr>\n",
       "    <tr>\n",
       "      <th>4</th>\n",
       "      <td>2</td>\n",
       "      <td>0.935484</td>\n",
       "      <td>0.064516</td>\n",
       "      <td>0.0</td>\n",
       "      <td>0.0</td>\n",
       "      <td>0.0</td>\n",
       "      <td>0.166667</td>\n",
       "      <td>0.083333</td>\n",
       "      <td>0.0</td>\n",
       "      <td>0.0</td>\n",
       "      <td>...</td>\n",
       "      <td>0</td>\n",
       "      <td>0</td>\n",
       "      <td>0</td>\n",
       "      <td>0</td>\n",
       "      <td>0</td>\n",
       "      <td>0</td>\n",
       "      <td>0</td>\n",
       "      <td>0</td>\n",
       "      <td>0</td>\n",
       "      <td>0.002851</td>\n",
       "    </tr>\n",
       "  </tbody>\n",
       "</table>\n",
       "<p>5 rows × 58 columns</p>\n",
       "</div>"
      ],
      "text/plain": [
       "   Park_Fatalities_Previous_Year  Fraction of Not Rainy  Fraction of Rainy  \\\n",
       "0                              2               0.935484           0.064516   \n",
       "1                              2               0.935484           0.064516   \n",
       "2                              2               0.935484           0.064516   \n",
       "3                              2               0.935484           0.064516   \n",
       "4                              2               0.935484           0.064516   \n",
       "\n",
       "   Drought Count  Flooding Count  Freeze Count  Severe Storm Count  \\\n",
       "0            0.0             0.0           0.0            0.166667   \n",
       "1            0.0             0.0           0.0            0.166667   \n",
       "2            0.0             0.0           0.0            0.166667   \n",
       "3            0.0             0.0           0.0            0.166667   \n",
       "4            0.0             0.0           0.0            0.166667   \n",
       "\n",
       "   Tropical Cyclone Count  Wildfire Count  Winter Storm Count  ...  \\\n",
       "0                0.083333             0.0                 0.0  ...   \n",
       "1                0.083333             0.0                 0.0  ...   \n",
       "2                0.083333             0.0                 0.0  ...   \n",
       "3                0.083333             0.0                 0.0  ...   \n",
       "4                0.083333             0.0                 0.0  ...   \n",
       "\n",
       "   Attraction_Spinning Coaster  Attraction_Spiral Slide  \\\n",
       "0                            0                        0   \n",
       "1                            0                        0   \n",
       "2                            0                        0   \n",
       "3                            0                        0   \n",
       "4                            0                        0   \n",
       "\n",
       "   Attraction_Superman Ride  Attraction_Swing Ride  Attraction_Tilt-A-Whirl  \\\n",
       "0                         0                      0                        0   \n",
       "1                         0                      0                        0   \n",
       "2                         0                      0                        0   \n",
       "3                         0                      0                        0   \n",
       "4                         0                      0                        0   \n",
       "\n",
       "   Attraction_Top Spin  Attraction_Vertical Drop  Attraction_Water Ride  \\\n",
       "0                    0                         0                      0   \n",
       "1                    0                         0                      0   \n",
       "2                    0                         0                      0   \n",
       "3                    0                         0                      0   \n",
       "4                    0                         0                      0   \n",
       "\n",
       "   Attraction_Zipline  Demand_Score  \n",
       "0                   0      0.267251  \n",
       "1                   0     -0.137697  \n",
       "2                   0      1.375315  \n",
       "3                   0     -0.635457  \n",
       "4                   0      0.002851  \n",
       "\n",
       "[5 rows x 58 columns]"
      ]
     },
     "execution_count": 6,
     "metadata": {},
     "output_type": "execute_result"
    }
   ],
   "source": [
    "df = pd.read_csv(\"output.csv\")\n",
    "scaler = StandardScaler()\n",
    "\n",
    "# Standardize the variables to be used for deriving the response variable (demand score)\n",
    "df[[\"Max_wait_time_std\", \"Total_units_std\"]] = scaler.fit_transform(df[[\"Max_wait_time\", \"Total_units\"]])\n",
    "df.drop(columns=[\"Max_wait_time\",\"Total_units\"], inplace=True)\n",
    "\n",
    "df[\"Demand_Score\"] = (df[\"Max_wait_time_std\"] + df[\"Total_units_std\"]) / 2\n",
    "df.drop(columns=[\"Max_wait_time_std\",\"Total_units_std\",\"Year_Month\"], inplace=True)\n",
    "df.head(5)"
   ]
  },
  {
   "cell_type": "code",
   "execution_count": 7,
   "id": "ffbeabe0-2bf8-4af7-af01-4e06d98f78bf",
   "metadata": {},
   "outputs": [
    {
     "data": {
      "text/plain": [
       "Index(['Park_Fatalities_Previous_Year', 'Fraction of Not Rainy',\n",
       "       'Fraction of Rainy', 'Drought Count', 'Flooding Count', 'Freeze Count',\n",
       "       'Severe Storm Count', 'Tropical Cyclone Count', 'Wildfire Count',\n",
       "       'Winter Storm Count', 'All Disasters Count', 'Public_Holidays_in_Month',\n",
       "       'Spring', 'Summer', 'Autumn', 'Winter', 'Ongoing Disasters',\n",
       "       'Avg_no_parades', 'Average_attendee_seaworld', 'Attraction_Bumper Cars',\n",
       "       'Attraction_Bungee Jump', 'Attraction_Circus Train',\n",
       "       'Attraction_Crazy Bus', 'Attraction_Crazy Dance',\n",
       "       'Attraction_Dizzy Dropper', 'Attraction_Drop Tower',\n",
       "       'Attraction_Flying Coaster', 'Attraction_Free Fall',\n",
       "       'Attraction_Giant Wheel', 'Attraction_Giga Coaster',\n",
       "       'Attraction_Go-Karts', 'Attraction_Gondola', 'Attraction_Haunted House',\n",
       "       'Attraction_Himalaya Ride', 'Attraction_Inverted Coaster',\n",
       "       'Attraction_Kiddie Coaster', 'Attraction_Log Flume',\n",
       "       'Attraction_Merry Go Round', 'Attraction_Monorail',\n",
       "       'Attraction_Oz Theatre', 'Attraction_Pirate Ship',\n",
       "       'Attraction_Power Tower', 'Attraction_Rapids Ride',\n",
       "       'Attraction_Reverse Bungee', 'Attraction_Roller Coaster',\n",
       "       'Attraction_Scooby Doo', 'Attraction_Skyway', 'Attraction_Sling Shot',\n",
       "       'Attraction_Spinning Coaster', 'Attraction_Spiral Slide',\n",
       "       'Attraction_Superman Ride', 'Attraction_Swing Ride',\n",
       "       'Attraction_Tilt-A-Whirl', 'Attraction_Top Spin',\n",
       "       'Attraction_Vertical Drop', 'Attraction_Water Ride',\n",
       "       'Attraction_Zipline', 'Demand_Score'],\n",
       "      dtype='object')"
      ]
     },
     "execution_count": 7,
     "metadata": {},
     "output_type": "execute_result"
    }
   ],
   "source": [
    "df.columns.unique()"
   ]
  },
  {
   "cell_type": "markdown",
   "id": "442654fa-e136-4641-afed-c78c6bb50c43",
   "metadata": {},
   "source": [
    "## Train-Test Split"
   ]
  },
  {
   "cell_type": "markdown",
   "id": "5ae43f1c-0512-4a45-8e47-24affa84035b",
   "metadata": {},
   "source": [
    "For the different methods below, we will use only the training data in our model training and selection process, leaving the test data unseen. The test data will be reserved for evaluating our final selected model, based on lowest average Cross-Validated (CV) RMSE (Root Mean Squared Error) and MAE (Mean Absolute Error)."
   ]
  },
  {
   "cell_type": "code",
   "execution_count": 8,
   "id": "b7c058b6-eca8-4b2d-a1a7-9028db6bb175",
   "metadata": {},
   "outputs": [
    {
     "name": "stdout",
     "output_type": "stream",
     "text": [
      "Training data size: 1662 samples\n",
      "Test data size: 416 samples\n"
     ]
    }
   ],
   "source": [
    "# Features and target variable\n",
    "X = df.drop(columns=[\"Demand_Score\"])  # Features\n",
    "y = df[\"Demand_Score\"]  # Target variable\n",
    "X_train, X_test, y_train, y_test = train_test_split(X, y, test_size=0.2, random_state=42)\n",
    "\n",
    "# Verifying split sizes\n",
    "print(f\"Training data size: {X_train.shape[0]} samples\")\n",
    "print(f\"Test data size: {X_test.shape[0]} samples\")"
   ]
  },
  {
   "cell_type": "markdown",
   "id": "68fcbec6-cc0a-4b14-8ef6-42674f106b36",
   "metadata": {},
   "source": [
    "## Linear Regression"
   ]
  },
  {
   "cell_type": "code",
   "execution_count": 9,
   "id": "7705e81c-d1ba-42a0-a106-52810adb5a36",
   "metadata": {},
   "outputs": [],
   "source": [
    "# Linear Regression\n",
    "lr_model = LinearRegression()\n",
    "\n",
    "# Cross-validation for RMSE \n",
    "rmse_scores_lr = cross_val_score(lr_model, X_train, y_train, cv=5, scoring=\"neg_mean_squared_error\")\n",
    "average_rmse_lr = np.mean(np.sqrt(np.abs(rmse_scores_lr)))\n",
    "\n",
    "# Cross-validation for MAE\n",
    "mae_scores_lr = cross_val_score(lr_model, X_train, y_train, cv=5, scoring=\"neg_mean_absolute_error\")\n",
    "average_mae_lr = np.mean(np.abs(mae_scores_lr))  \n"
   ]
  },
  {
   "cell_type": "markdown",
   "id": "c7c36312-baee-473b-8ade-78605e5a1d9b",
   "metadata": {},
   "source": [
    "## Standardizing features for Ridge, Lasso, and Elastic Net"
   ]
  },
  {
   "cell_type": "markdown",
   "id": "987511e2-5196-45fc-b4c1-74a8cda8f8aa",
   "metadata": {},
   "source": [
    "Ridge, Lasso and Elastic Net are sensitive to feature scales, so we standardize the features in our training data before proceeding with these 3 models."
   ]
  },
  {
   "cell_type": "code",
   "execution_count": 10,
   "id": "71d6e558-ab32-47e7-83c4-673ce09432d6",
   "metadata": {},
   "outputs": [],
   "source": [
    "scaler = StandardScaler()\n",
    "X_train_scaled = scaler.fit_transform(X_train)  # Scaling features in training data only\n",
    "X_test_scaled = scaler.transform(X_test)  # Transforming test data (for possible later evaluation)"
   ]
  },
  {
   "cell_type": "markdown",
   "id": "bdb94ec2-804b-4e63-9c39-efaa1b27ff85",
   "metadata": {},
   "source": [
    "## Ridge Regression"
   ]
  },
  {
   "cell_type": "code",
   "execution_count": 13,
   "id": "2bcdd155-5dc2-484e-86ee-117dff43fe61",
   "metadata": {},
   "outputs": [],
   "source": [
    "# Ridge Regression (Finding optimal alpha using training data)\n",
    "ridge_params = {'alpha': np.logspace(-1, 3, 50)}\n",
    "ridge_grid = GridSearchCV(Ridge(), ridge_params, scoring=\"neg_mean_squared_error\", cv=5)\n",
    "ridge_grid.fit(X_train_scaled, y_train)\n",
    "\n",
    "optimal_alpha_ridge = ridge_grid.best_params_['alpha']  # Best alpha value\n",
    "\n",
    "# Train Ridge model with optimal alpha\n",
    "ridge_model = Ridge(alpha=optimal_alpha_ridge)\n",
    "\n",
    "# Cross-validation for RMSE\n",
    "rmse_scores_ridge = cross_val_score(ridge_model, X_train_scaled, y_train, cv=5, scoring=\"neg_mean_squared_error\")\n",
    "average_rmse_ridge = np.mean(np.sqrt(np.abs(rmse_scores_ridge)))  \n",
    "\n",
    "# Cross-validation for MAE\n",
    "mae_scores_ridge = cross_val_score(ridge_model, X_train_scaled, y_train, cv=5, scoring=\"neg_mean_absolute_error\")\n",
    "average_mae_ridge = np.mean(np.abs(mae_scores_ridge)) "
   ]
  },
  {
   "cell_type": "markdown",
   "id": "2ab723b7-62fa-47a9-a701-96ffd356e8cb",
   "metadata": {},
   "source": [
    "## Lasso Regression"
   ]
  },
  {
   "cell_type": "code",
   "execution_count": 14,
   "id": "e8c2dbe0-7330-4c49-b3f5-18aa7097417c",
   "metadata": {},
   "outputs": [],
   "source": [
    "# Lasso Regression (Finding optimal alpha using training data)\n",
    "lasso_params = {'alpha': np.logspace(-3, 3, 50)}  \n",
    "lasso_grid = GridSearchCV(Lasso(max_iter=10000), lasso_params, scoring=\"neg_mean_squared_error\", cv=5)\n",
    "lasso_grid.fit(X_train_scaled, y_train)\n",
    "\n",
    "optimal_alpha_lasso = lasso_grid.best_params_['alpha']  # Best alpha value\n",
    "\n",
    "# Train Lasso model with optimal alpha\n",
    "lasso_model = Lasso(alpha=optimal_alpha_lasso, max_iter=10000)\n",
    "\n",
    "# Cross-validation for RMSE\n",
    "rmse_scores_lasso = cross_val_score(lasso_model, X_train_scaled, y_train, cv=5, scoring=\"neg_mean_squared_error\")\n",
    "average_rmse_lasso = np.mean(np.sqrt(np.abs(rmse_scores_lasso)))  \n",
    "\n",
    "# Cross-validation for MAE\n",
    "mae_scores_lasso = cross_val_score(lasso_model, X_train_scaled, y_train, cv=5, scoring=\"neg_mean_absolute_error\")\n",
    "average_mae_lasso = np.mean(np.abs(mae_scores_lasso))  \n",
    "\n"
   ]
  },
  {
   "cell_type": "markdown",
   "id": "a25ed9a9-b11c-41d0-beda-299872cd5c4b",
   "metadata": {},
   "source": [
    "## Elastic Net Regression (Combining L1 and L2 regularization)"
   ]
  },
  {
   "cell_type": "code",
   "execution_count": 15,
   "id": "76ea5601-9871-440b-aeac-d640cff8641b",
   "metadata": {},
   "outputs": [],
   "source": [
    "# Elastic Net Regression (Finding optimal alpha and l1_ratio using training data)\n",
    "elastic_params = {\n",
    "    'alpha': np.logspace(-3, 3, 30),  \n",
    "    'l1_ratio': np.linspace(0.1, 0.9, 9) \n",
    "}\n",
    "elastic_grid = GridSearchCV(ElasticNet(max_iter=10000), elastic_params, scoring=\"neg_mean_squared_error\", cv=5)\n",
    "elastic_grid.fit(X_train_scaled, y_train)\n",
    "\n",
    "optimal_alpha_elastic = elastic_grid.best_params_['alpha']\n",
    "optimal_l1_ratio = elastic_grid.best_params_['l1_ratio']\n",
    "\n",
    "# Train Elastic Net model with optimal alpha and l1_ratio\n",
    "elastic_model = ElasticNet(alpha=optimal_alpha_elastic, l1_ratio=optimal_l1_ratio, max_iter=10000)\n",
    "\n",
    "# Cross-validation for RMSE\n",
    "rmse_scores_elastic = cross_val_score(elastic_model, X_train_scaled, y_train, cv=5, scoring=\"neg_mean_squared_error\")\n",
    "average_rmse_elastic = np.mean(np.sqrt(np.abs(rmse_scores_elastic)))  \n",
    "\n",
    "# Cross-validation for MAE\n",
    "mae_scores_elastic = cross_val_score(elastic_model, X_train_scaled, y_train, cv=5, scoring=\"neg_mean_absolute_error\")\n",
    "average_mae_elastic = np.mean(np.abs(mae_scores_elastic))  \n"
   ]
  },
  {
   "cell_type": "markdown",
   "id": "8aa9241f-7d7a-4cbf-95e1-c28879aeec79",
   "metadata": {},
   "source": [
    "## Single Decision Tree"
   ]
  },
  {
   "cell_type": "code",
   "execution_count": 18,
   "id": "abefa95e-fe8a-4204-a6bc-9d561f4d8444",
   "metadata": {},
   "outputs": [],
   "source": [
    "dt_model = DecisionTreeRegressor(random_state=42)\n",
    "\n",
    "# Defining hyperparameter grid\n",
    "param_grid = {\n",
    "    'max_depth': [3, 5, 10, 20, None],\n",
    "    'min_samples_split': [2, 5, 10],\n",
    "    'min_samples_leaf': [1, 2, 4]\n",
    "}\n",
    "\n",
    "# RMSE Tuning\n",
    "rmse_scorer = make_scorer(mean_squared_error, greater_is_better=False, squared=False)\n",
    "\n",
    "grid_rmse = GridSearchCV(\n",
    "    estimator=dt_model,\n",
    "    param_grid=param_grid,\n",
    "    scoring=rmse_scorer,\n",
    "    cv=5,\n",
    "    n_jobs=-1\n",
    ")\n",
    "\n",
    "grid_rmse.fit(X_train, y_train)  \n",
    "\n",
    "# MAE Tuning\n",
    "mae_scorer = make_scorer(mean_absolute_error, greater_is_better=False)\n",
    "\n",
    "grid_mae = GridSearchCV(\n",
    "    estimator=dt_model,\n",
    "    param_grid=param_grid,\n",
    "    scoring=mae_scorer,\n",
    "    cv=5,\n",
    "    n_jobs=-1\n",
    ")\n",
    "\n",
    "grid_mae.fit(X_train, y_train)\n",
    "\n",
    "# Tuned Decision Tree (RMSE)\n",
    "optimal_params_dt_rmse = grid_rmse.best_params_\n",
    "average_rmse_dt_tuned = -grid_rmse.best_score_\n",
    "\n",
    "# Tuned Decision Tree (MAE)\n",
    "optimal_params_dt_mae = grid_mae.best_params_\n",
    "average_mae_dt_tuned = -grid_mae.best_score_"
   ]
  },
  {
   "cell_type": "markdown",
   "id": "c135714e-f74a-46be-96fe-0ee1bd860c94",
   "metadata": {},
   "source": [
    "## Random Forest"
   ]
  },
  {
   "cell_type": "code",
   "execution_count": 19,
   "id": "63f22fb8-74e8-4f2e-91bf-14695150e048",
   "metadata": {},
   "outputs": [],
   "source": [
    "rf_model = RandomForestRegressor(random_state=42)\n",
    "\n",
    "# Defining hyperparameter grid\n",
    "param_grid_rf = {\n",
    "    'n_estimators': [100, 200],\n",
    "    'max_depth': [10, 20, None],\n",
    "    'min_samples_split': [2, 5],\n",
    "    'min_samples_leaf': [1, 2]\n",
    "}\n",
    "\n",
    "# RMSE Tuning\n",
    "rmse_scorer = make_scorer(mean_squared_error, greater_is_better=False, squared=False)\n",
    "\n",
    "grid_rf_rmse = GridSearchCV(\n",
    "    estimator=rf_model,\n",
    "    param_grid=param_grid_rf,\n",
    "    scoring=rmse_scorer,\n",
    "    cv=5,\n",
    "    n_jobs=-1\n",
    ")\n",
    "\n",
    "grid_rf_rmse.fit(X_train, y_train)\n",
    "\n",
    "# MAE Tuning\n",
    "mae_scorer = make_scorer(mean_absolute_error, greater_is_better=False)\n",
    "\n",
    "grid_rf_mae = GridSearchCV(\n",
    "    estimator=rf_model,\n",
    "    param_grid=param_grid_rf,\n",
    "    scoring=mae_scorer,\n",
    "    cv=5,\n",
    "    n_jobs=-1\n",
    ")\n",
    "\n",
    "grid_rf_mae.fit(X_train, y_train)\n",
    "\n",
    "# Tuned Random Forest (RMSE)\n",
    "optimal_params_rf_rmse = grid_rf_rmse.best_params_\n",
    "average_rmse_rf_tuned = -grid_rf_rmse.best_score_\n",
    "\n",
    "# Tuned Random Forest (MAE)\n",
    "optimal_params_rf_mae = grid_rf_mae.best_params_\n",
    "average_mae_rf_tuned = -grid_rf_mae.best_score_"
   ]
  },
  {
   "cell_type": "markdown",
   "id": "c7cfe77e-70f0-4d9e-b29b-de1430dab76b",
   "metadata": {},
   "source": [
    "## Overall results (Average CV RMSE and MAE)"
   ]
  },
  {
   "cell_type": "code",
   "execution_count": 20,
   "id": "591a147d-4a34-4556-a211-f0d9d4b7ed1e",
   "metadata": {
    "scrolled": true
   },
   "outputs": [
    {
     "name": "stdout",
     "output_type": "stream",
     "text": [
      "Average CV RMSE for Multiple Linear Regression: 0.5770\n",
      "Average CV MAE for Multiple Linear Regression: 0.3850\n",
      "Optimal Ridge Penalty: 19.3070\n",
      "Average CV RMSE for Ridge Regression: 0.5767\n",
      "Average CV MAE for Ridge Regression: 0.3840\n",
      "Optimal Lasso Penalty: 0.0018\n",
      "Average CV RMSE for Lasso Regression: 0.5769\n",
      "Average CV MAE for Lasso Regression: 0.3844\n",
      "Optimal Elastic Net Alpha: 0.0108, L1 Ratio: 0.10\n",
      "Average CV RMSE for Elastic Net Regression: 0.5768\n",
      "Average CV MAE for Elastic Net Regression: 0.3841\n",
      "Optimal Parameters for Decision Tree (RMSE): {'max_depth': None, 'min_samples_leaf': 4, 'min_samples_split': 10}\n",
      "Average CV RMSE for Tuned Decision Tree: 0.5573\n",
      "Optimal Parameters for Decision Tree (MAE): {'max_depth': None, 'min_samples_leaf': 4, 'min_samples_split': 10}\n",
      "Average CV MAE for Tuned Decision Tree: 0.3180\n",
      "Optimal Parameters for Random Forest (RMSE): {'max_depth': None, 'min_samples_leaf': 2, 'min_samples_split': 5, 'n_estimators': 200}\n",
      "Average CV RMSE for Tuned Random Forest: 0.4889\n",
      "Optimal Parameters for Random Forest (MAE): {'max_depth': None, 'min_samples_leaf': 1, 'min_samples_split': 5, 'n_estimators': 200}\n",
      "Average CV MAE for Tuned Random Forest: 0.2879\n"
     ]
    }
   ],
   "source": [
    "print(f\"Average CV RMSE for Multiple Linear Regression: {average_rmse_lr:.4f}\")\n",
    "print(f\"Average CV MAE for Multiple Linear Regression: {average_mae_lr:.4f}\")\n",
    "print(f\"Optimal Ridge Penalty: {optimal_alpha_ridge:.4f}\")\n",
    "print(f\"Average CV RMSE for Ridge Regression: {average_rmse_ridge:.4f}\")\n",
    "print(f\"Average CV MAE for Ridge Regression: {average_mae_ridge:.4f}\")\n",
    "print(f\"Optimal Lasso Penalty: {optimal_alpha_lasso:.4f}\")\n",
    "print(f\"Average CV RMSE for Lasso Regression: {average_rmse_lasso:.4f}\")\n",
    "print(f\"Average CV MAE for Lasso Regression: {average_mae_lasso:.4f}\")\n",
    "print(f\"Optimal Elastic Net Alpha: {optimal_alpha_elastic:.4f}, L1 Ratio: {optimal_l1_ratio:.2f}\")\n",
    "print(f\"Average CV RMSE for Elastic Net Regression: {average_rmse_elastic:.4f}\")\n",
    "print(f\"Average CV MAE for Elastic Net Regression: {average_mae_elastic:.4f}\")\n",
    "print(f\"Optimal Parameters for Decision Tree (RMSE): {optimal_params_dt_rmse}\")\n",
    "print(f\"Average CV RMSE for Tuned Decision Tree: {average_rmse_dt_tuned:.4f}\")\n",
    "print(f\"Optimal Parameters for Decision Tree (MAE): {optimal_params_dt_mae}\")\n",
    "print(f\"Average CV MAE for Tuned Decision Tree: {average_mae_dt_tuned:.4f}\")\n",
    "print(f\"Optimal Parameters for Random Forest (RMSE): {optimal_params_rf_rmse}\")\n",
    "print(f\"Average CV RMSE for Tuned Random Forest: {average_rmse_rf_tuned:.4f}\")\n",
    "print(f\"Optimal Parameters for Random Forest (MAE): {optimal_params_rf_mae}\")\n",
    "print(f\"Average CV MAE for Tuned Random Forest: {average_mae_rf_tuned:.4f}\")"
   ]
  },
  {
   "cell_type": "markdown",
   "id": "2685fcf4-7cf9-4417-82cf-d218a5d990d0",
   "metadata": {},
   "source": [
    "## Plots for RMSE and MAE for the different models"
   ]
  },
  {
   "cell_type": "code",
   "execution_count": 21,
   "id": "0154966d-9ba8-4535-81f9-ff81ddf7eb52",
   "metadata": {},
   "outputs": [
    {
     "data": {
      "image/png": "[encoded data removed]",
      "text/plain": [
       "<Figure size 1000x500 with 1 Axes>"
      ]
     },
     "metadata": {},
     "output_type": "display_data"
    },
    {
     "data": {
      "image/png": "[encoded data removed]",
      "text/plain": [
       "<Figure size 1000x500 with 1 Axes>"
      ]
     },
     "metadata": {},
     "output_type": "display_data"
    }
   ],
   "source": [
    "models = [\n",
    "    \"Linear Regression\", \"Ridge Regression\", \"Lasso Regression\", \"Elastic Net Regression\",\n",
    "    \"Decision Tree Regression\", \"Random Forest Regression\"\n",
    "]\n",
    "# RMSE values\n",
    "rmse_values = [\n",
    "    average_rmse_lr, average_rmse_ridge, average_rmse_lasso, average_rmse_elastic,\n",
    "    average_rmse_dt_tuned, average_rmse_rf_tuned\n",
    "]\n",
    "\n",
    "# MAE values\n",
    "mae_values = [\n",
    "    average_mae_lr, average_mae_ridge, average_mae_lasso, average_mae_elastic,\n",
    "    average_mae_dt_tuned, average_mae_rf_tuned\n",
    "]\n",
    "\n",
    "# Plot RMSE\n",
    "plt.figure(figsize=(10, 5))\n",
    "plt.bar(models, rmse_values, color='blue')\n",
    "plt.xlabel(\"Models\")\n",
    "plt.ylabel(\"Average RMSE\")\n",
    "plt.title(\"Average CV RMSE for Different Models\")\n",
    "plt.xticks(rotation=45, ha=\"right\")\n",
    "plt.show()\n",
    "\n",
    "# Plot MAE\n",
    "plt.figure(figsize=(10, 5))\n",
    "plt.bar(models, mae_values, color='green')\n",
    "plt.xlabel(\"Models\")\n",
    "plt.ylabel(\"Average MAE\")\n",
    "plt.title(\"Average CV MAE for Different Models\")\n",
    "plt.xticks(rotation=45, ha=\"right\")\n",
    "plt.show()"
   ]
  },
  {
   "cell_type": "markdown",
   "id": "9086b477-f186-4d49-80d0-7dff619dc241",
   "metadata": {},
   "source": [
    "Above, we observe from the 2 plots that the Random Forest Regression model outperforms the other models in terms of both average 5-fold CV RMSE and MAE as evaluation metrics. So we conclude that Random Forest Regressor will be our final predictive model for this task to predict the demand score for each attraction."
   ]
  },
  {
   "cell_type": "markdown",
   "id": "5b4294ff-bf23-4ea2-8cd6-6d4c5dbcb8ab",
   "metadata": {},
   "source": [
    "## Feature Importance for Random Forest model"
   ]
  },
  {
   "cell_type": "code",
   "execution_count": 25,
   "id": "5e204f06-3e94-4529-bd5d-a32600c270c3",
   "metadata": {},
   "outputs": [
    {
     "name": "stdout",
     "output_type": "stream",
     "text": [
      "                          Feature  Importance\n",
      "36           Attraction_Log Flume    0.119671\n",
      "37      Attraction_Merry Go Round    0.087506\n",
      "24       Attraction_Dizzy Dropper    0.070792\n",
      "7          Tropical Cyclone Count    0.069210\n",
      "1           Fraction of Not Rainy    0.054726\n",
      "2               Fraction of Rainy    0.054699\n",
      "45          Attraction_Scooby Doo    0.049671\n",
      "18      Average_attendee_seaworld    0.048784\n",
      "17                 Avg_no_parades    0.037713\n",
      "12                         Spring    0.035021\n",
      "0   Park_Fatalities_Previous_Year    0.028311\n",
      "11       Public_Holidays_in_Month    0.026156\n",
      "43      Attraction_Reverse Bungee    0.022171\n",
      "53            Attraction_Top Spin    0.020067\n",
      "33       Attraction_Himalaya Ride    0.019960\n",
      "21        Attraction_Circus Train    0.018682\n",
      "23         Attraction_Crazy Dance    0.018199\n",
      "15                         Winter    0.018051\n",
      "39          Attraction_Oz Theatre    0.017433\n",
      "40         Attraction_Pirate Ship    0.017279\n",
      "10            All Disasters Count    0.015849\n",
      "6              Severe Storm Count    0.014942\n",
      "50       Attraction_Superman Ride    0.014542\n",
      "16              Ongoing Disasters    0.010038\n",
      "34    Attraction_Inverted Coaster    0.009281\n",
      "51          Attraction_Swing Ride    0.009191\n",
      "14                         Autumn    0.008870\n",
      "38            Attraction_Monorail    0.006246\n",
      "48    Attraction_Spinning Coaster    0.005488\n",
      "47          Attraction_Sling Shot    0.005299\n",
      "28         Attraction_Giant Wheel    0.005249\n",
      "49        Attraction_Spiral Slide    0.005225\n",
      "42         Attraction_Rapids Ride    0.004866\n",
      "26      Attraction_Flying Coaster    0.004796\n",
      "13                         Summer    0.004412\n",
      "29        Attraction_Giga Coaster    0.004188\n",
      "30            Attraction_Go-Karts    0.003780\n",
      "35      Attraction_Kiddie Coaster    0.003188\n",
      "22           Attraction_Crazy Bus    0.003160\n",
      "27           Attraction_Free Fall    0.002905\n",
      "56             Attraction_Zipline    0.002776\n",
      "19         Attraction_Bumper Cars    0.002722\n",
      "20         Attraction_Bungee Jump    0.002706\n",
      "32       Attraction_Haunted House    0.002655\n",
      "31             Attraction_Gondola    0.002489\n",
      "44      Attraction_Roller Coaster    0.002348\n",
      "25          Attraction_Drop Tower    0.002258\n",
      "46              Attraction_Skyway    0.002219\n",
      "55          Attraction_Water Ride    0.002125\n",
      "41         Attraction_Power Tower    0.001784\n",
      "52        Attraction_Tilt-A-Whirl    0.000304\n",
      "9              Winter Storm Count    0.000000\n",
      "8                  Wildfire Count    0.000000\n",
      "5                    Freeze Count    0.000000\n",
      "4                  Flooding Count    0.000000\n",
      "3                   Drought Count    0.000000\n",
      "54       Attraction_Vertical Drop    0.000000\n"
     ]
    }
   ],
   "source": [
    "# Using the optimally tuned Random Forest model (RMSE-based)\n",
    "best_rf_model = grid_rf_rmse.best_estimator_\n",
    "best_rf_model.fit(X_train, y_train)\n",
    "feature_importance = best_rf_model.feature_importances_\n",
    "feature_importance_df = pd.DataFrame({\n",
    "    'Feature': X_train.columns,\n",
    "    'Importance': feature_importance\n",
    "}).sort_values(by=\"Importance\", ascending=False)\n",
    "print(feature_importance_df)"
   ]
  },
  {
   "cell_type": "markdown",
   "id": "50a91b27-b19f-45db-9324-e4ae4a74c5d7",
   "metadata": {},
   "source": [
    "Above, we obtain a feature importance table. Interestingly, we observe that the Log-Fume, Merry-Go-Round and Dizzy-Dropper attractions are listed as more important predictors than the presence of nearby cyclone risks and whether it is raining or not. This may imply that the inherent appeal of these rides strongly drive attraction demand. An interesting thought is whether park visitors will still visit these three attractions even when adverse weather conditions are prevalent, as the inherent appeal of these three attractions may overshadow the banes caused by bad weather. Theme park owners can leverage on this knowledge by enhancing these three rides to boost overall attraction demand, and if business goals involve mitigating the impact of adverse weather conditions on attraction demand, businesses may also consider installing more sheltered infrastructure within areas vulnerable to adverse weather."
   ]
  },
  {
   "cell_type": "markdown",
   "id": "45bd0d4c-0d37-46c2-aa2f-0f9d590f4025",
   "metadata": {},
   "source": [
    "## Evaluating Test RMSE and MAE for Tuned Random Forest Model"
   ]
  },
  {
   "cell_type": "code",
   "execution_count": 24,
   "id": "620a72bd-c51f-4cb0-9694-023be0042387",
   "metadata": {},
   "outputs": [
    {
     "name": "stdout",
     "output_type": "stream",
     "text": [
      "Test RMSE for Tuned Random Forest: 0.4871\n",
      "Test MAE for Tuned Random Forest: 0.3073\n"
     ]
    }
   ],
   "source": [
    "y_pred_rf = best_rf_model.predict(X_test)\n",
    "# Test RMSE\n",
    "rmse_test_rf = np.sqrt(mean_squared_error(y_test, y_pred_rf))\n",
    "# Test MAE\n",
    "mae_test_rf = mean_absolute_error(y_test, y_pred_rf)\n",
    "\n",
    "print(f\"Test RMSE for Tuned Random Forest: {rmse_test_rf:.4f}\")\n",
    "print(f\"Test MAE for Tuned Random Forest: {mae_test_rf:.4f}\")"
   ]
  },
  {
   "cell_type": "markdown",
   "id": "0e105b31-152a-4187-80cf-58ea62565814",
   "metadata": {},
   "source": [
    "Lastly, we evaluate the test RMSE and MAE for the Random Forest model. We observe that the RMSE and MAE using unseen test data are close to those when using 5-fold CV for this model. This suggests that using cross-validation provides a realistic estimate of model performance on unseen data."
   ]
  }
 ],
 "metadata": {
  "kernelspec": {
   "display_name": "Python 3 (ipykernel)",
   "language": "python",
   "name": "python3"
  },
  "language_info": {
   "codemirror_mode": {
    "name": "ipython",
    "version": 3
   },
   "file_extension": ".py",
   "mimetype": "text/x-python",
   "name": "python",
   "nbconvert_exporter": "python",
   "pygments_lexer": "ipython3",
   "version": "3.12.5"
  }
 },
 "nbformat": 4,
 "nbformat_minor": 5
}
