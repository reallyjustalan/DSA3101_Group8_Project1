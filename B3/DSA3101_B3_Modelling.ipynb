{
 "cells": [
  {
   "cell_type": "markdown",
   "metadata": {},
   "source": [
    "# Resource Allocation for Demand Variability"
   ]
  },
  {
   "cell_type": "code",
   "execution_count": 59,
   "metadata": {},
   "outputs": [],
   "source": [
    "#pip install cvxpy\n",
    "#pip install holidays\n",
    "#pip install meteostat"
   ]
  },
  {
   "cell_type": "code",
   "execution_count": 60,
   "metadata": {},
   "outputs": [],
   "source": [
    "# Libraries\n",
    "import pandas as pd\n",
    "import numpy as np\n",
    "from sklearn.preprocessing import StandardScaler\n",
    "import datetime as dt\n",
    "import seaborn as sns\n",
    "import holidays\n",
    "from meteostat import Point, Daily\n",
    "import matplotlib.pyplot as plt\n",
    "import cvxpy as cp\n",
    "import calendar\n",
    "from scipy.interpolate import interp1d"
   ]
  },
  {
   "cell_type": "markdown",
   "metadata": {},
   "source": [
    "## Attendance Data\n",
    "\n",
    "### By month & day of the week\n",
    "Data obtained from `attendance.csv`"
   ]
  },
  {
   "cell_type": "code",
   "execution_count": 61,
   "metadata": {},
   "outputs": [
    {
     "data": {
      "application/vnd.microsoft.datawrangler.viewer.v0+json": {
       "columns": [
        {
         "name": "index",
         "rawType": "int64",
         "type": "integer"
        },
        {
         "name": "USAGE_DATE",
         "rawType": "datetime64[ns]",
         "type": "datetime"
        },
        {
         "name": "FACILITY_NAME",
         "rawType": "object",
         "type": "string"
        },
        {
         "name": "attendance",
         "rawType": "int64",
         "type": "integer"
        },
        {
         "name": "Year",
         "rawType": "int32",
         "type": "integer"
        },
        {
         "name": "Month",
         "rawType": "int32",
         "type": "integer"
        },
        {
         "name": "Day_of_Week",
         "rawType": "object",
         "type": "string"
        },
        {
         "name": "mean_attendance",
         "rawType": "float64",
         "type": "float"
        },
        {
         "name": "std_attendance",
         "rawType": "float64",
         "type": "float"
        },
        {
         "name": "standardized_attendance",
         "rawType": "float64",
         "type": "float"
        }
       ],
       "conversionMethod": "pd.DataFrame",
       "ref": "5f83fcc3-f0d2-4d8b-93ce-a2512e7b040e",
       "rows": [
        [
         "0",
         "2018-06-01 00:00:00",
         "PortAventura World",
         "46804",
         "2018",
         "6",
         "Friday",
         "45461.004672897194",
         "13418.682301511511",
         "0.1000839946073936"
        ],
        [
         "1",
         "2018-06-01 00:00:00",
         "Tivoli Gardens",
         "20420",
         "2018",
         "6",
         "Friday",
         "22760.57476635514",
         "7124.590920569654",
         "-0.3285205834902866"
        ],
        [
         "2",
         "2018-06-02 00:00:00",
         "PortAventura World",
         "57940",
         "2018",
         "6",
         "Saturday",
         "45461.004672897194",
         "13418.682301511511",
         "0.9299717399000603"
        ],
        [
         "3",
         "2018-06-02 00:00:00",
         "Tivoli Gardens",
         "29110",
         "2018",
         "6",
         "Saturday",
         "22760.57476635514",
         "7124.590920569654",
         "0.8911985690733782"
        ],
        [
         "4",
         "2018-06-03 00:00:00",
         "PortAventura World",
         "44365",
         "2018",
         "6",
         "Sunday",
         "45461.004672897194",
         "13418.682301511511",
         "-0.0816775185722772"
        ]
       ],
       "shape": {
        "columns": 9,
        "rows": 5
       }
      },
      "text/html": [
       "<div>\n",
       "<style scoped>\n",
       "    .dataframe tbody tr th:only-of-type {\n",
       "        vertical-align: middle;\n",
       "    }\n",
       "\n",
       "    .dataframe tbody tr th {\n",
       "        vertical-align: top;\n",
       "    }\n",
       "\n",
       "    .dataframe thead th {\n",
       "        text-align: right;\n",
       "    }\n",
       "</style>\n",
       "<table border=\"1\" class=\"dataframe\">\n",
       "  <thead>\n",
       "    <tr style=\"text-align: right;\">\n",
       "      <th></th>\n",
       "      <th>USAGE_DATE</th>\n",
       "      <th>FACILITY_NAME</th>\n",
       "      <th>attendance</th>\n",
       "      <th>Year</th>\n",
       "      <th>Month</th>\n",
       "      <th>Day_of_Week</th>\n",
       "      <th>mean_attendance</th>\n",
       "      <th>std_attendance</th>\n",
       "      <th>standardized_attendance</th>\n",
       "    </tr>\n",
       "  </thead>\n",
       "  <tbody>\n",
       "    <tr>\n",
       "      <th>0</th>\n",
       "      <td>2018-06-01</td>\n",
       "      <td>PortAventura World</td>\n",
       "      <td>46804</td>\n",
       "      <td>2018</td>\n",
       "      <td>6</td>\n",
       "      <td>Friday</td>\n",
       "      <td>45461.004673</td>\n",
       "      <td>13418.682302</td>\n",
       "      <td>0.100084</td>\n",
       "    </tr>\n",
       "    <tr>\n",
       "      <th>1</th>\n",
       "      <td>2018-06-01</td>\n",
       "      <td>Tivoli Gardens</td>\n",
       "      <td>20420</td>\n",
       "      <td>2018</td>\n",
       "      <td>6</td>\n",
       "      <td>Friday</td>\n",
       "      <td>22760.574766</td>\n",
       "      <td>7124.590921</td>\n",
       "      <td>-0.328521</td>\n",
       "    </tr>\n",
       "    <tr>\n",
       "      <th>2</th>\n",
       "      <td>2018-06-02</td>\n",
       "      <td>PortAventura World</td>\n",
       "      <td>57940</td>\n",
       "      <td>2018</td>\n",
       "      <td>6</td>\n",
       "      <td>Saturday</td>\n",
       "      <td>45461.004673</td>\n",
       "      <td>13418.682302</td>\n",
       "      <td>0.929972</td>\n",
       "    </tr>\n",
       "    <tr>\n",
       "      <th>3</th>\n",
       "      <td>2018-06-02</td>\n",
       "      <td>Tivoli Gardens</td>\n",
       "      <td>29110</td>\n",
       "      <td>2018</td>\n",
       "      <td>6</td>\n",
       "      <td>Saturday</td>\n",
       "      <td>22760.574766</td>\n",
       "      <td>7124.590921</td>\n",
       "      <td>0.891199</td>\n",
       "    </tr>\n",
       "    <tr>\n",
       "      <th>4</th>\n",
       "      <td>2018-06-03</td>\n",
       "      <td>PortAventura World</td>\n",
       "      <td>44365</td>\n",
       "      <td>2018</td>\n",
       "      <td>6</td>\n",
       "      <td>Sunday</td>\n",
       "      <td>45461.004673</td>\n",
       "      <td>13418.682302</td>\n",
       "      <td>-0.081678</td>\n",
       "    </tr>\n",
       "  </tbody>\n",
       "</table>\n",
       "</div>"
      ],
      "text/plain": [
       "  USAGE_DATE       FACILITY_NAME  attendance  Year  Month Day_of_Week  \\\n",
       "0 2018-06-01  PortAventura World       46804  2018      6      Friday   \n",
       "1 2018-06-01      Tivoli Gardens       20420  2018      6      Friday   \n",
       "2 2018-06-02  PortAventura World       57940  2018      6    Saturday   \n",
       "3 2018-06-02      Tivoli Gardens       29110  2018      6    Saturday   \n",
       "4 2018-06-03  PortAventura World       44365  2018      6      Sunday   \n",
       "\n",
       "   mean_attendance  std_attendance  standardized_attendance  \n",
       "0     45461.004673    13418.682302                 0.100084  \n",
       "1     22760.574766     7124.590921                -0.328521  \n",
       "2     45461.004673    13418.682302                 0.929972  \n",
       "3     22760.574766     7124.590921                 0.891199  \n",
       "4     45461.004673    13418.682302                -0.081678  "
      ]
     },
     "execution_count": 61,
     "metadata": {},
     "output_type": "execute_result"
    }
   ],
   "source": [
    "# Preparing attendance.csv for use\n",
    "attendance_data = pd.read_csv(r\"C:\\Users\\joann\\Downloads\\attendance.csv\")\n",
    "attendance_data.isnull().any()\n",
    "attendance_data.drop_duplicates(inplace = True)\n",
    "attendance_data[\"USAGE_DATE\"] = pd.to_datetime(attendance_data[\"USAGE_DATE\"])\n",
    "attendance_data[\"Year\"] = attendance_data[\"USAGE_DATE\"].dt.year\n",
    "attendance_data[\"Month\"] = attendance_data[\"USAGE_DATE\"].dt.month\n",
    "attendance_data[\"Day_of_Week\"] = attendance_data[\"USAGE_DATE\"].dt.day_name()\n",
    "for x in attendance_data.index:\n",
    "  if attendance_data.loc[x, \"attendance\"] < 0:\n",
    "    attendance_data.loc[x, \"attendance\"] = 0\n",
    "\n",
    "attendance_data[\"mean_attendance\"] = attendance_data.groupby([\"Year\", \"FACILITY_NAME\"])[\"attendance\"].transform(\"mean\")\n",
    "attendance_data[\"std_attendance\"] = attendance_data.groupby([\"Year\", \"FACILITY_NAME\"])[\"attendance\"].transform(\"std\")\n",
    "\n",
    "# Standardize attendance\n",
    "attendance_data[\"standardized_attendance\"] = (attendance_data[\"attendance\"] - attendance_data[\"mean_attendance\"]) / attendance_data[\"std_attendance\"]\n",
    "\n",
    "attendance_data.head()"
   ]
  },
  {
   "cell_type": "code",
   "execution_count": 62,
   "metadata": {},
   "outputs": [
    {
     "name": "stdout",
     "output_type": "stream",
     "text": [
      "Overall Mean Daily Attendance: 26840.7913886349\n"
     ]
    },
    {
     "data": {
      "application/vnd.microsoft.datawrangler.viewer.v0+json": {
       "columns": [
        {
         "name": "index",
         "rawType": "int64",
         "type": "integer"
        },
        {
         "name": "Month",
         "rawType": "int32",
         "type": "integer"
        },
        {
         "name": "Day_of_Week",
         "rawType": "object",
         "type": "string"
        },
        {
         "name": "adjuster_month_day",
         "rawType": "float64",
         "type": "float"
        }
       ],
       "conversionMethod": "pd.DataFrame",
       "ref": "e47247b2-7f83-4fa5-8446-027f7b507f25",
       "rows": [
        [
         "0",
         "1",
         "Friday",
         "0.7017877449587551"
        ],
        [
         "1",
         "1",
         "Monday",
         "0.5736661644288781"
        ],
        [
         "2",
         "1",
         "Saturday",
         "1.3249580670703085"
        ],
        [
         "3",
         "1",
         "Sunday",
         "1.0240627203634696"
        ],
        [
         "4",
         "1",
         "Thursday",
         "0.633079587588172"
        ],
        [
         "5",
         "1",
         "Tuesday",
         "0.5275523687769788"
        ],
        [
         "6",
         "1",
         "Wednesday",
         "0.5832034767712185"
        ],
        [
         "7",
         "2",
         "Friday",
         "0.8500416897665497"
        ],
        [
         "8",
         "2",
         "Monday",
         "0.9470364701726528"
        ],
        [
         "9",
         "2",
         "Saturday",
         "1.2948531998240838"
        ],
        [
         "10",
         "2",
         "Sunday",
         "1.1154430793973207"
        ],
        [
         "11",
         "2",
         "Thursday",
         "0.7826577667545537"
        ],
        [
         "12",
         "2",
         "Tuesday",
         "0.861190764906216"
        ],
        [
         "13",
         "2",
         "Wednesday",
         "0.8523904158437308"
        ],
        [
         "14",
         "3",
         "Friday",
         "1.005755468845946"
        ],
        [
         "15",
         "3",
         "Monday",
         "0.9284450536190922"
        ],
        [
         "16",
         "3",
         "Saturday",
         "1.6417213398058867"
        ],
        [
         "17",
         "3",
         "Sunday",
         "1.2866406971918622"
        ],
        [
         "18",
         "3",
         "Thursday",
         "0.7607776799251275"
        ],
        [
         "19",
         "3",
         "Tuesday",
         "0.7564527950268943"
        ],
        [
         "20",
         "3",
         "Wednesday",
         "0.773849728560152"
        ],
        [
         "21",
         "4",
         "Friday",
         "1.2328726563475882"
        ],
        [
         "22",
         "4",
         "Monday",
         "1.2809528965022383"
        ],
        [
         "23",
         "4",
         "Saturday",
         "1.3614973618900155"
        ],
        [
         "24",
         "4",
         "Sunday",
         "1.330752025259737"
        ],
        [
         "25",
         "4",
         "Thursday",
         "1.3717437376153523"
        ],
        [
         "26",
         "4",
         "Tuesday",
         "1.37126276363678"
        ],
        [
         "27",
         "4",
         "Wednesday",
         "1.3104564239820986"
        ],
        [
         "28",
         "5",
         "Friday",
         "1.3053162894838215"
        ],
        [
         "29",
         "5",
         "Monday",
         "1.0817241903540606"
        ],
        [
         "30",
         "5",
         "Saturday",
         "1.3850932881115317"
        ],
        [
         "31",
         "5",
         "Sunday",
         "1.2228899237014152"
        ],
        [
         "32",
         "5",
         "Thursday",
         "1.2045347768827832"
        ],
        [
         "33",
         "5",
         "Tuesday",
         "1.0737505974461306"
        ],
        [
         "34",
         "5",
         "Wednesday",
         "1.178366066775886"
        ],
        [
         "35",
         "6",
         "Friday",
         "1.0320959738542805"
        ],
        [
         "36",
         "6",
         "Monday",
         "1.0180313341370661"
        ],
        [
         "37",
         "6",
         "Saturday",
         "1.3567160821030242"
        ],
        [
         "38",
         "6",
         "Sunday",
         "1.1628720553752434"
        ],
        [
         "39",
         "6",
         "Thursday",
         "1.0506943831000917"
        ],
        [
         "40",
         "6",
         "Tuesday",
         "0.9824298086662419"
        ],
        [
         "41",
         "6",
         "Wednesday",
         "0.9588311874323159"
        ],
        [
         "42",
         "7",
         "Friday",
         "0.8281513675729442"
        ],
        [
         "43",
         "7",
         "Monday",
         "0.9992360257172644"
        ],
        [
         "44",
         "7",
         "Saturday",
         "1.0493403339785972"
        ],
        [
         "45",
         "7",
         "Sunday",
         "1.0123667594803352"
        ],
        [
         "46",
         "7",
         "Thursday",
         "0.8990515987719431"
        ],
        [
         "47",
         "7",
         "Tuesday",
         "1.0252217047673806"
        ],
        [
         "48",
         "7",
         "Wednesday",
         "0.9721015293916553"
        ],
        [
         "49",
         "8",
         "Friday",
         "1.0012289648492572"
        ]
       ],
       "shape": {
        "columns": 3,
        "rows": 84
       }
      },
      "text/html": [
       "<div>\n",
       "<style scoped>\n",
       "    .dataframe tbody tr th:only-of-type {\n",
       "        vertical-align: middle;\n",
       "    }\n",
       "\n",
       "    .dataframe tbody tr th {\n",
       "        vertical-align: top;\n",
       "    }\n",
       "\n",
       "    .dataframe thead th {\n",
       "        text-align: right;\n",
       "    }\n",
       "</style>\n",
       "<table border=\"1\" class=\"dataframe\">\n",
       "  <thead>\n",
       "    <tr style=\"text-align: right;\">\n",
       "      <th></th>\n",
       "      <th>Month</th>\n",
       "      <th>Day_of_Week</th>\n",
       "      <th>adjuster_month_day</th>\n",
       "    </tr>\n",
       "  </thead>\n",
       "  <tbody>\n",
       "    <tr>\n",
       "      <th>0</th>\n",
       "      <td>1</td>\n",
       "      <td>Friday</td>\n",
       "      <td>0.701788</td>\n",
       "    </tr>\n",
       "    <tr>\n",
       "      <th>1</th>\n",
       "      <td>1</td>\n",
       "      <td>Monday</td>\n",
       "      <td>0.573666</td>\n",
       "    </tr>\n",
       "    <tr>\n",
       "      <th>2</th>\n",
       "      <td>1</td>\n",
       "      <td>Saturday</td>\n",
       "      <td>1.324958</td>\n",
       "    </tr>\n",
       "    <tr>\n",
       "      <th>3</th>\n",
       "      <td>1</td>\n",
       "      <td>Sunday</td>\n",
       "      <td>1.024063</td>\n",
       "    </tr>\n",
       "    <tr>\n",
       "      <th>4</th>\n",
       "      <td>1</td>\n",
       "      <td>Thursday</td>\n",
       "      <td>0.633080</td>\n",
       "    </tr>\n",
       "    <tr>\n",
       "      <th>...</th>\n",
       "      <td>...</td>\n",
       "      <td>...</td>\n",
       "      <td>...</td>\n",
       "    </tr>\n",
       "    <tr>\n",
       "      <th>79</th>\n",
       "      <td>12</td>\n",
       "      <td>Saturday</td>\n",
       "      <td>1.454402</td>\n",
       "    </tr>\n",
       "    <tr>\n",
       "      <th>80</th>\n",
       "      <td>12</td>\n",
       "      <td>Sunday</td>\n",
       "      <td>1.331022</td>\n",
       "    </tr>\n",
       "    <tr>\n",
       "      <th>81</th>\n",
       "      <td>12</td>\n",
       "      <td>Thursday</td>\n",
       "      <td>0.959565</td>\n",
       "    </tr>\n",
       "    <tr>\n",
       "      <th>82</th>\n",
       "      <td>12</td>\n",
       "      <td>Tuesday</td>\n",
       "      <td>1.173001</td>\n",
       "    </tr>\n",
       "    <tr>\n",
       "      <th>83</th>\n",
       "      <td>12</td>\n",
       "      <td>Wednesday</td>\n",
       "      <td>0.982645</td>\n",
       "    </tr>\n",
       "  </tbody>\n",
       "</table>\n",
       "<p>84 rows × 3 columns</p>\n",
       "</div>"
      ],
      "text/plain": [
       "    Month Day_of_Week  adjuster_month_day\n",
       "0       1      Friday            0.701788\n",
       "1       1      Monday            0.573666\n",
       "2       1    Saturday            1.324958\n",
       "3       1      Sunday            1.024063\n",
       "4       1    Thursday            0.633080\n",
       "..    ...         ...                 ...\n",
       "79     12    Saturday            1.454402\n",
       "80     12      Sunday            1.331022\n",
       "81     12    Thursday            0.959565\n",
       "82     12     Tuesday            1.173001\n",
       "83     12   Wednesday            0.982645\n",
       "\n",
       "[84 rows x 3 columns]"
      ]
     },
     "execution_count": 62,
     "metadata": {},
     "output_type": "execute_result"
    }
   ],
   "source": [
    "# Group by Month and Day_of_Week, then calculate mean attendance for each combination\n",
    "mean_month_day_attendance = attendance_data.groupby([\"Month\", \"Day_of_Week\"])[\"attendance\"].mean().reset_index()\n",
    "mean_month_day_attendance.rename(columns={\"attendance\": \"mean_month_day_attendance\"}, inplace=True)\n",
    "\n",
    "# Compute the overall mean attendance (average of all month and day combinations)\n",
    "overall_mean = mean_month_day_attendance[\"mean_month_day_attendance\"].mean()\n",
    "\n",
    "print(f\"Overall Mean Daily Attendance: {overall_mean}\")\n",
    "\n",
    "# Add a new column for the absolute difference from the overall mean\n",
    "mean_month_day_attendance[\"abs_diff_from_overall_mean\"] = (\n",
    "    mean_month_day_attendance[\"mean_month_day_attendance\"] - overall_mean\n",
    ")\n",
    "\n",
    "# Add a new column for the percentage difference from the overall mean\n",
    "mean_month_day_attendance[\"pct_diff_from_overall_mean\"] = (mean_month_day_attendance[\"abs_diff_from_overall_mean\"] / overall_mean)\n",
    "\n",
    "# Adjustor\n",
    "mean_month_day_attendance[\"adjuster_month_day\"] = (1 + mean_month_day_attendance[\"pct_diff_from_overall_mean\"])\n",
    "\n",
    "adjust_month_day = mean_month_day_attendance[[\"Month\", \"Day_of_Week\", \"adjuster_month_day\"]]\n",
    "adjust_month_day"
   ]
  },
  {
   "cell_type": "markdown",
   "metadata": {},
   "source": [
    "### By the hour"
   ]
  },
  {
   "cell_type": "markdown",
   "metadata": {},
   "source": [
    "#### Rides\n",
    "Guests carried on all rides for every hour will optimize overall ride staffing. Data obtained from `waiting_times.csv`. "
   ]
  },
  {
   "cell_type": "code",
   "execution_count": 63,
   "metadata": {},
   "outputs": [
    {
     "name": "stdout",
     "output_type": "stream",
     "text": [
      "Overall mean guest carried across all hours: 75.26821131211832\n"
     ]
    },
    {
     "data": {
      "application/vnd.microsoft.datawrangler.viewer.v0+json": {
       "columns": [
        {
         "name": "index",
         "rawType": "int64",
         "type": "integer"
        },
        {
         "name": "DEB_TIME_HOUR",
         "rawType": "int64",
         "type": "integer"
        },
        {
         "name": "adjuster_hourly_rides",
         "rawType": "float64",
         "type": "float"
        }
       ],
       "conversionMethod": "pd.DataFrame",
       "ref": "a25f11d1-bc24-4ab2-873e-d45523fdd800",
       "rows": [
        [
         "0",
         "9",
         "0.6910873858664682"
        ],
        [
         "1",
         "10",
         "1.259111826452167"
        ],
        [
         "2",
         "11",
         "1.384398940292613"
        ],
        [
         "3",
         "12",
         "1.3684952394483443"
        ],
        [
         "4",
         "13",
         "1.3696107878726251"
        ],
        [
         "5",
         "14",
         "1.369343753850868"
        ],
        [
         "6",
         "15",
         "1.3633767345160828"
        ],
        [
         "7",
         "16",
         "1.3173024938768862"
        ],
        [
         "8",
         "17",
         "1.168626886800499"
        ],
        [
         "9",
         "18",
         "1.0041641947435906"
        ],
        [
         "10",
         "19",
         "0.7603052815992759"
        ],
        [
         "11",
         "20",
         "0.4856492280014756"
        ],
        [
         "12",
         "21",
         "0.31914615886341935"
        ],
        [
         "13",
         "22",
         "0.1393810878156847"
        ]
       ],
       "shape": {
        "columns": 2,
        "rows": 14
       }
      },
      "text/html": [
       "<div>\n",
       "<style scoped>\n",
       "    .dataframe tbody tr th:only-of-type {\n",
       "        vertical-align: middle;\n",
       "    }\n",
       "\n",
       "    .dataframe tbody tr th {\n",
       "        vertical-align: top;\n",
       "    }\n",
       "\n",
       "    .dataframe thead th {\n",
       "        text-align: right;\n",
       "    }\n",
       "</style>\n",
       "<table border=\"1\" class=\"dataframe\">\n",
       "  <thead>\n",
       "    <tr style=\"text-align: right;\">\n",
       "      <th></th>\n",
       "      <th>DEB_TIME_HOUR</th>\n",
       "      <th>adjuster_hourly_rides</th>\n",
       "    </tr>\n",
       "  </thead>\n",
       "  <tbody>\n",
       "    <tr>\n",
       "      <th>0</th>\n",
       "      <td>9</td>\n",
       "      <td>0.691087</td>\n",
       "    </tr>\n",
       "    <tr>\n",
       "      <th>1</th>\n",
       "      <td>10</td>\n",
       "      <td>1.259112</td>\n",
       "    </tr>\n",
       "    <tr>\n",
       "      <th>2</th>\n",
       "      <td>11</td>\n",
       "      <td>1.384399</td>\n",
       "    </tr>\n",
       "    <tr>\n",
       "      <th>3</th>\n",
       "      <td>12</td>\n",
       "      <td>1.368495</td>\n",
       "    </tr>\n",
       "    <tr>\n",
       "      <th>4</th>\n",
       "      <td>13</td>\n",
       "      <td>1.369611</td>\n",
       "    </tr>\n",
       "    <tr>\n",
       "      <th>5</th>\n",
       "      <td>14</td>\n",
       "      <td>1.369344</td>\n",
       "    </tr>\n",
       "    <tr>\n",
       "      <th>6</th>\n",
       "      <td>15</td>\n",
       "      <td>1.363377</td>\n",
       "    </tr>\n",
       "    <tr>\n",
       "      <th>7</th>\n",
       "      <td>16</td>\n",
       "      <td>1.317302</td>\n",
       "    </tr>\n",
       "    <tr>\n",
       "      <th>8</th>\n",
       "      <td>17</td>\n",
       "      <td>1.168627</td>\n",
       "    </tr>\n",
       "    <tr>\n",
       "      <th>9</th>\n",
       "      <td>18</td>\n",
       "      <td>1.004164</td>\n",
       "    </tr>\n",
       "    <tr>\n",
       "      <th>10</th>\n",
       "      <td>19</td>\n",
       "      <td>0.760305</td>\n",
       "    </tr>\n",
       "    <tr>\n",
       "      <th>11</th>\n",
       "      <td>20</td>\n",
       "      <td>0.485649</td>\n",
       "    </tr>\n",
       "    <tr>\n",
       "      <th>12</th>\n",
       "      <td>21</td>\n",
       "      <td>0.319146</td>\n",
       "    </tr>\n",
       "    <tr>\n",
       "      <th>13</th>\n",
       "      <td>22</td>\n",
       "      <td>0.139381</td>\n",
       "    </tr>\n",
       "  </tbody>\n",
       "</table>\n",
       "</div>"
      ],
      "text/plain": [
       "    DEB_TIME_HOUR  adjuster_hourly_rides\n",
       "0               9               0.691087\n",
       "1              10               1.259112\n",
       "2              11               1.384399\n",
       "3              12               1.368495\n",
       "4              13               1.369611\n",
       "5              14               1.369344\n",
       "6              15               1.363377\n",
       "7              16               1.317302\n",
       "8              17               1.168627\n",
       "9              18               1.004164\n",
       "10             19               0.760305\n",
       "11             20               0.485649\n",
       "12             21               0.319146\n",
       "13             22               0.139381"
      ]
     },
     "execution_count": 63,
     "metadata": {},
     "output_type": "execute_result"
    }
   ],
   "source": [
    "## Adjust by hour of day\n",
    "\n",
    "# Rides Demand by day of week & hour\n",
    "waiting_times = pd.read_csv(r\"C:\\Users\\joann\\Downloads\\waiting_times.csv\")\n",
    "waiting_times['DEB_TIME'] = pd.to_datetime(waiting_times['DEB_TIME'])\n",
    "waiting_times['DEB_TIME_DAY'] = waiting_times['DEB_TIME'].dt.dayofweek\n",
    "waiting_times = waiting_times[waiting_times['GUEST_CARRIED'] >= 0]\n",
    "rides_hourly_demand = waiting_times[['DEB_TIME', 'DEB_TIME_DAY', 'DEB_TIME_HOUR', 'ENTITY_DESCRIPTION_SHORT', 'GUEST_CARRIED']]\n",
    "\n",
    "# Group by hour and compute the mean guests carried across all rides\n",
    "rides_hourly_agg = rides_hourly_demand.groupby(\"DEB_TIME_HOUR\")[\"GUEST_CARRIED\"].mean().reset_index()\n",
    "\n",
    "# Rename column for clarity\n",
    "rides_hourly_agg.rename(columns={\"GUEST_CARRIED\": \"mean_guest_carried\"}, inplace=True)\n",
    "\n",
    "# Compute the overall mean of guest carried across all hours\n",
    "overall_mean_guest_carried = rides_hourly_agg[\"mean_guest_carried\"].mean()\n",
    "\n",
    "print(f\"Overall mean guest carried across all hours: {overall_mean_guest_carried}\")\n",
    "\n",
    "# Add a new column to show the difference between each hour's mean and the overall mean\n",
    "rides_hourly_agg[\"abs_diff_from_overall_mean\"] = rides_hourly_agg[\"mean_guest_carried\"] - overall_mean_guest_carried\n",
    "\n",
    "# Add a new column to show the difference between each hour's mean and the overall mean\n",
    "rides_hourly_agg[\"pct_diff_from_overall_mean\"] = (rides_hourly_agg[\"abs_diff_from_overall_mean\"] / overall_mean_guest_carried)\n",
    "\n",
    "# Adjuster\n",
    "rides_hourly_agg[\"adjuster_hourly_rides\"] = (1 + rides_hourly_agg[\"pct_diff_from_overall_mean\"])\n",
    "\n",
    "adjust_hour_rides = rides_hourly_agg[[\"DEB_TIME_HOUR\", \"adjuster_hourly_rides\"]]\n",
    "adjust_hour_rides"
   ]
  },
  {
   "cell_type": "markdown",
   "metadata": {},
   "source": [
    "#### Eateries\n",
    "Crowd levels in eateries for every hour will be used to optimize overall eatery staffing. Data obtained from `air_reserve` and `hpg_reserve`."
   ]
  },
  {
   "cell_type": "code",
   "execution_count": 64,
   "metadata": {},
   "outputs": [],
   "source": [
    "hpg_reserve = pd.read_csv(r\"C:\\Users\\joann\\Downloads\\hpg_reserve.csv\")\n",
    "hpg_reserve.drop(columns=[\"reserve_datetime\"], inplace=True)\n",
    "\n",
    "# Ensure datetime format\n",
    "hpg_reserve[\"visit_datetime\"] = pd.to_datetime(hpg_reserve[\"visit_datetime\"])\n",
    "\n",
    "# Extract hour before dropping visit_datetime\n",
    "hpg_reserve[\"hour\"] = hpg_reserve[\"visit_datetime\"].dt.hour\n",
    "\n",
    "# Group by store_id and hour, then compute the sum of reserve_visitors\n",
    "hpg_hourly_sum = hpg_reserve.groupby([\"hpg_store_id\", \"hour\"])[\"reserve_visitors\"].sum().reset_index()\n",
    "\n",
    "# Rename for clarity\n",
    "hpg_hourly_sum.rename(columns={\"reserve_visitors\": \"sum_reserve_visitors\"}, inplace=True)\n",
    "\n",
    "# Compute the mean of reserve visitors per hour across all restaurants\n",
    "hpg_hourly_all_sum = hpg_hourly_sum.groupby(\"hour\")[\"sum_reserve_visitors\"].mean().reset_index()\n",
    "\n",
    "# Rename for clarity\n",
    "hpg_hourly_all_sum.rename(columns={\"sum_reserve_visitors\": \"hpg_mean_reserve_visitors_per_hour\"}, inplace=True)\n",
    "\n",
    "hpg_hourly_all_sum_relhrs = hpg_hourly_all_sum.loc[hpg_hourly_all_sum[\"hour\"].between(9,22)]"
   ]
  },
  {
   "cell_type": "code",
   "execution_count": 65,
   "metadata": {},
   "outputs": [],
   "source": [
    "air_reserve = pd.read_csv(r\"C:\\Users\\joann\\Downloads\\air_reserve.csv\")\n",
    "air_reserve.drop(columns=[\"reserve_datetime\"], inplace=True)\n",
    "\n",
    "# Ensure datetime format\n",
    "air_reserve[\"visit_datetime\"] = pd.to_datetime(air_reserve[\"visit_datetime\"])\n",
    "\n",
    "# Extract hour before dropping visit_datetime\n",
    "air_reserve[\"hour\"] = air_reserve[\"visit_datetime\"].dt.hour\n",
    "\n",
    "# Group by store_id and hour, then compute the sum of reserve_visitors\n",
    "air_hourly_sum = air_reserve.groupby([\"air_store_id\", \"hour\"])[\"reserve_visitors\"].sum().reset_index()\n",
    "\n",
    "# Rename for clarity\n",
    "air_hourly_sum.rename(columns={\"reserve_visitors\": \"sum_reserve_visitors\"}, inplace=True)\n",
    "\n",
    "# Compute the mean of reserve visitors per hour across all restaurants\n",
    "air_hourly_all_sum = air_hourly_sum.groupby(\"hour\")[\"sum_reserve_visitors\"].mean().reset_index()\n",
    "\n",
    "# Rename for clarity\n",
    "air_hourly_all_sum.rename(columns={\"sum_reserve_visitors\": \"air_mean_reserve_visitors_per_hour\"}, inplace=True)\n",
    "\n",
    "air_hourly_all_sum_relhrs = air_hourly_all_sum.loc[air_hourly_all_sum[\"hour\"].between(9,22)]"
   ]
  },
  {
   "cell_type": "code",
   "execution_count": 66,
   "metadata": {},
   "outputs": [
    {
     "name": "stderr",
     "output_type": "stream",
     "text": [
      "SettingWithCopyWarning: \n",
      "A value is trying to be set on a copy of a slice from a DataFrame.\n",
      "Try using .loc[row_indexer,col_indexer] = value instead\n",
      "\n",
      "See the caveats in the documentation: https://pandas.pydata.org/pandas-docs/stable/user_guide/indexing.html#returning-a-view-versus-a-copy\n"
     ]
    },
    {
     "data": {
      "application/vnd.microsoft.datawrangler.viewer.v0+json": {
       "columns": [
        {
         "name": "index",
         "rawType": "int64",
         "type": "integer"
        },
        {
         "name": "hour",
         "rawType": "int32",
         "type": "integer"
        },
        {
         "name": "adjuster",
         "rawType": "float64",
         "type": "float"
        }
       ],
       "conversionMethod": "pd.DataFrame",
       "ref": "c57d5875-4aa6-4a98-b50f-9d069b550307",
       "rows": [
        [
         "0",
         "9",
         "0.10013180268558541"
        ],
        [
         "1",
         "10",
         "0.28941301943922193"
        ],
        [
         "2",
         "11",
         "0.8452191847734195"
        ],
        [
         "3",
         "12",
         "0.8627370368816504"
        ],
        [
         "4",
         "13",
         "0.47686715070700914"
        ],
        [
         "5",
         "14",
         "0.2397297574868078"
        ],
        [
         "6",
         "15",
         "0.2019712781954599"
        ],
        [
         "7",
         "16",
         "0.33283498755762486"
        ],
        [
         "8",
         "17",
         "1.1582338576984217"
        ],
        [
         "9",
         "18",
         "3.482398187868262"
        ],
        [
         "10",
         "19",
         "3.4568017846539445"
        ],
        [
         "11",
         "20",
         "1.3703866384321775"
        ],
        [
         "12",
         "21",
         "0.784864242788671"
        ],
        [
         "13",
         "22",
         "0.3984110708317459"
        ]
       ],
       "shape": {
        "columns": 2,
        "rows": 14
       }
      },
      "text/html": [
       "<div>\n",
       "<style scoped>\n",
       "    .dataframe tbody tr th:only-of-type {\n",
       "        vertical-align: middle;\n",
       "    }\n",
       "\n",
       "    .dataframe tbody tr th {\n",
       "        vertical-align: top;\n",
       "    }\n",
       "\n",
       "    .dataframe thead th {\n",
       "        text-align: right;\n",
       "    }\n",
       "</style>\n",
       "<table border=\"1\" class=\"dataframe\">\n",
       "  <thead>\n",
       "    <tr style=\"text-align: right;\">\n",
       "      <th></th>\n",
       "      <th>hour</th>\n",
       "      <th>adjuster</th>\n",
       "    </tr>\n",
       "  </thead>\n",
       "  <tbody>\n",
       "    <tr>\n",
       "      <th>0</th>\n",
       "      <td>9</td>\n",
       "      <td>0.100132</td>\n",
       "    </tr>\n",
       "    <tr>\n",
       "      <th>1</th>\n",
       "      <td>10</td>\n",
       "      <td>0.289413</td>\n",
       "    </tr>\n",
       "    <tr>\n",
       "      <th>2</th>\n",
       "      <td>11</td>\n",
       "      <td>0.845219</td>\n",
       "    </tr>\n",
       "    <tr>\n",
       "      <th>3</th>\n",
       "      <td>12</td>\n",
       "      <td>0.862737</td>\n",
       "    </tr>\n",
       "    <tr>\n",
       "      <th>4</th>\n",
       "      <td>13</td>\n",
       "      <td>0.476867</td>\n",
       "    </tr>\n",
       "    <tr>\n",
       "      <th>5</th>\n",
       "      <td>14</td>\n",
       "      <td>0.239730</td>\n",
       "    </tr>\n",
       "    <tr>\n",
       "      <th>6</th>\n",
       "      <td>15</td>\n",
       "      <td>0.201971</td>\n",
       "    </tr>\n",
       "    <tr>\n",
       "      <th>7</th>\n",
       "      <td>16</td>\n",
       "      <td>0.332835</td>\n",
       "    </tr>\n",
       "    <tr>\n",
       "      <th>8</th>\n",
       "      <td>17</td>\n",
       "      <td>1.158234</td>\n",
       "    </tr>\n",
       "    <tr>\n",
       "      <th>9</th>\n",
       "      <td>18</td>\n",
       "      <td>3.482398</td>\n",
       "    </tr>\n",
       "    <tr>\n",
       "      <th>10</th>\n",
       "      <td>19</td>\n",
       "      <td>3.456802</td>\n",
       "    </tr>\n",
       "    <tr>\n",
       "      <th>11</th>\n",
       "      <td>20</td>\n",
       "      <td>1.370387</td>\n",
       "    </tr>\n",
       "    <tr>\n",
       "      <th>12</th>\n",
       "      <td>21</td>\n",
       "      <td>0.784864</td>\n",
       "    </tr>\n",
       "    <tr>\n",
       "      <th>13</th>\n",
       "      <td>22</td>\n",
       "      <td>0.398411</td>\n",
       "    </tr>\n",
       "  </tbody>\n",
       "</table>\n",
       "</div>"
      ],
      "text/plain": [
       "    hour  adjuster\n",
       "0      9  0.100132\n",
       "1     10  0.289413\n",
       "2     11  0.845219\n",
       "3     12  0.862737\n",
       "4     13  0.476867\n",
       "5     14  0.239730\n",
       "6     15  0.201971\n",
       "7     16  0.332835\n",
       "8     17  1.158234\n",
       "9     18  3.482398\n",
       "10    19  3.456802\n",
       "11    20  1.370387\n",
       "12    21  0.784864\n",
       "13    22  0.398411"
      ]
     },
     "execution_count": 66,
     "metadata": {},
     "output_type": "execute_result"
    }
   ],
   "source": [
    "eatery_merging = hpg_hourly_all_sum_relhrs.merge(\n",
    "    air_hourly_all_sum_relhrs[['hour', 'air_mean_reserve_visitors_per_hour']],\n",
    "    on='hour',\n",
    "    how='left'\n",
    ")\n",
    "\n",
    "# Calculate percentage difference from the mean\n",
    "eatery_merging['hpg_pct_diff'] = (eatery_merging['hpg_mean_reserve_visitors_per_hour'] - eatery_merging['hpg_mean_reserve_visitors_per_hour'].mean()) / eatery_merging['hpg_mean_reserve_visitors_per_hour'].mean()\n",
    "eatery_merging['air_pct_diff'] = (eatery_merging['air_mean_reserve_visitors_per_hour'] - eatery_merging['air_mean_reserve_visitors_per_hour'].mean()) / eatery_merging['air_mean_reserve_visitors_per_hour'].mean()\n",
    "\n",
    "eatery_ah_pct = eatery_merging[[\"hour\", \"hpg_pct_diff\", \"air_pct_diff\"]]\n",
    "\n",
    "# Compute combined percentage difference and adjuster\n",
    "eatery_ah_pct['combined_pct_diff'] = eatery_ah_pct[['hpg_pct_diff', 'air_pct_diff']].mean(axis=1)\n",
    "eatery_ah_pct['adjuster'] = 1 + eatery_ah_pct[\"combined_pct_diff\"]\n",
    "\n",
    "adjust_hour_eatery = eatery_ah_pct[[\"hour\", \"adjuster\"]]\n",
    "adjust_hour_eatery"
   ]
  },
  {
   "cell_type": "markdown",
   "metadata": {},
   "source": [
    "#### Merchandise\n",
    "Merchandise store footfall for every hour will be used to optimize overall merchandise store staffing. Data obtained from BestTime app data for Yodobashi Akiba. It is a large shopping centre in Tokyo, Japan, and follows similar opening hours to a theme park. https://besttime.app/app/Japan/Tokyo/?page=2& "
   ]
  },
  {
   "cell_type": "code",
   "execution_count": 97,
   "metadata": {},
   "outputs": [
    {
     "data": {
      "application/vnd.microsoft.datawrangler.viewer.v0+json": {
       "columns": [
        {
         "name": "index",
         "rawType": "int64",
         "type": "integer"
        },
        {
         "name": "day",
         "rawType": "int64",
         "type": "integer"
        },
        {
         "name": "hour",
         "rawType": "int64",
         "type": "integer"
        },
        {
         "name": "peak_frc",
         "rawType": "float64",
         "type": "float"
        }
       ],
       "conversionMethod": "pd.DataFrame",
       "ref": "0175ce08-0eb9-4e63-930a-b468978fb9b9",
       "rows": [
        [
         "0",
         "1",
         "9",
         "0.14"
        ],
        [
         "1",
         "1",
         "10",
         "0.25"
        ],
        [
         "2",
         "1",
         "11",
         "0.37"
        ],
        [
         "3",
         "1",
         "12",
         "0.47"
        ],
        [
         "4",
         "1",
         "13",
         "0.51"
        ],
        [
         "5",
         "1",
         "14",
         "0.53"
        ],
        [
         "6",
         "1",
         "15",
         "0.55"
        ],
        [
         "7",
         "1",
         "16",
         "0.61"
        ],
        [
         "8",
         "1",
         "17",
         "0.7"
        ],
        [
         "9",
         "1",
         "18",
         "0.8"
        ],
        [
         "10",
         "1",
         "19",
         "0.79"
        ],
        [
         "11",
         "1",
         "20",
         "0.66"
        ],
        [
         "12",
         "1",
         "21",
         "0.46"
        ],
        [
         "13",
         "2",
         "9",
         "0.14"
        ],
        [
         "14",
         "2",
         "10",
         "0.25"
        ],
        [
         "15",
         "2",
         "11",
         "0.36"
        ],
        [
         "16",
         "2",
         "12",
         "0.45"
        ],
        [
         "17",
         "2",
         "13",
         "0.49"
        ],
        [
         "18",
         "2",
         "14",
         "0.52"
        ],
        [
         "19",
         "2",
         "15",
         "0.53"
        ],
        [
         "20",
         "2",
         "16",
         "0.57"
        ],
        [
         "21",
         "2",
         "17",
         "0.66"
        ],
        [
         "22",
         "2",
         "18",
         "0.76"
        ],
        [
         "23",
         "2",
         "19",
         "0.77"
        ],
        [
         "24",
         "2",
         "20",
         "0.65"
        ],
        [
         "25",
         "2",
         "21",
         "0.45"
        ],
        [
         "26",
         "3",
         "9",
         "0.15"
        ],
        [
         "27",
         "3",
         "10",
         "0.25"
        ],
        [
         "28",
         "3",
         "11",
         "0.36"
        ],
        [
         "29",
         "3",
         "12",
         "0.45"
        ],
        [
         "30",
         "3",
         "13",
         "0.49"
        ],
        [
         "31",
         "3",
         "14",
         "0.51"
        ],
        [
         "32",
         "3",
         "15",
         "0.52"
        ],
        [
         "33",
         "3",
         "16",
         "0.58"
        ],
        [
         "34",
         "3",
         "17",
         "0.68"
        ],
        [
         "35",
         "3",
         "18",
         "0.8"
        ],
        [
         "36",
         "3",
         "19",
         "0.81"
        ],
        [
         "37",
         "3",
         "20",
         "0.69"
        ],
        [
         "38",
         "3",
         "21",
         "0.49"
        ],
        [
         "39",
         "4",
         "9",
         "0.15"
        ],
        [
         "40",
         "4",
         "10",
         "0.26"
        ],
        [
         "41",
         "4",
         "11",
         "0.37"
        ],
        [
         "42",
         "4",
         "12",
         "0.46"
        ],
        [
         "43",
         "4",
         "13",
         "0.5"
        ],
        [
         "44",
         "4",
         "14",
         "0.52"
        ],
        [
         "45",
         "4",
         "15",
         "0.54"
        ],
        [
         "46",
         "4",
         "16",
         "0.59"
        ],
        [
         "47",
         "4",
         "17",
         "0.69"
        ],
        [
         "48",
         "4",
         "18",
         "0.8"
        ],
        [
         "49",
         "4",
         "19",
         "0.82"
        ]
       ],
       "shape": {
        "columns": 3,
        "rows": 91
       }
      },
      "text/html": [
       "<div>\n",
       "<style scoped>\n",
       "    .dataframe tbody tr th:only-of-type {\n",
       "        vertical-align: middle;\n",
       "    }\n",
       "\n",
       "    .dataframe tbody tr th {\n",
       "        vertical-align: top;\n",
       "    }\n",
       "\n",
       "    .dataframe thead th {\n",
       "        text-align: right;\n",
       "    }\n",
       "</style>\n",
       "<table border=\"1\" class=\"dataframe\">\n",
       "  <thead>\n",
       "    <tr style=\"text-align: right;\">\n",
       "      <th></th>\n",
       "      <th>day</th>\n",
       "      <th>hour</th>\n",
       "      <th>peak_frc</th>\n",
       "    </tr>\n",
       "  </thead>\n",
       "  <tbody>\n",
       "    <tr>\n",
       "      <th>0</th>\n",
       "      <td>1</td>\n",
       "      <td>9</td>\n",
       "      <td>0.14</td>\n",
       "    </tr>\n",
       "    <tr>\n",
       "      <th>1</th>\n",
       "      <td>1</td>\n",
       "      <td>10</td>\n",
       "      <td>0.25</td>\n",
       "    </tr>\n",
       "    <tr>\n",
       "      <th>2</th>\n",
       "      <td>1</td>\n",
       "      <td>11</td>\n",
       "      <td>0.37</td>\n",
       "    </tr>\n",
       "    <tr>\n",
       "      <th>3</th>\n",
       "      <td>1</td>\n",
       "      <td>12</td>\n",
       "      <td>0.47</td>\n",
       "    </tr>\n",
       "    <tr>\n",
       "      <th>4</th>\n",
       "      <td>1</td>\n",
       "      <td>13</td>\n",
       "      <td>0.51</td>\n",
       "    </tr>\n",
       "    <tr>\n",
       "      <th>...</th>\n",
       "      <td>...</td>\n",
       "      <td>...</td>\n",
       "      <td>...</td>\n",
       "    </tr>\n",
       "    <tr>\n",
       "      <th>86</th>\n",
       "      <td>7</td>\n",
       "      <td>17</td>\n",
       "      <td>0.78</td>\n",
       "    </tr>\n",
       "    <tr>\n",
       "      <th>87</th>\n",
       "      <td>7</td>\n",
       "      <td>18</td>\n",
       "      <td>0.70</td>\n",
       "    </tr>\n",
       "    <tr>\n",
       "      <th>88</th>\n",
       "      <td>7</td>\n",
       "      <td>19</td>\n",
       "      <td>0.61</td>\n",
       "    </tr>\n",
       "    <tr>\n",
       "      <th>89</th>\n",
       "      <td>7</td>\n",
       "      <td>20</td>\n",
       "      <td>0.49</td>\n",
       "    </tr>\n",
       "    <tr>\n",
       "      <th>90</th>\n",
       "      <td>7</td>\n",
       "      <td>21</td>\n",
       "      <td>0.33</td>\n",
       "    </tr>\n",
       "  </tbody>\n",
       "</table>\n",
       "<p>91 rows × 3 columns</p>\n",
       "</div>"
      ],
      "text/plain": [
       "    day  hour  peak_frc\n",
       "0     1     9      0.14\n",
       "1     1    10      0.25\n",
       "2     1    11      0.37\n",
       "3     1    12      0.47\n",
       "4     1    13      0.51\n",
       "..  ...   ...       ...\n",
       "86    7    17      0.78\n",
       "87    7    18      0.70\n",
       "88    7    19      0.61\n",
       "89    7    20      0.49\n",
       "90    7    21      0.33\n",
       "\n",
       "[91 rows x 3 columns]"
      ]
     },
     "execution_count": 97,
     "metadata": {},
     "output_type": "execute_result"
    }
   ],
   "source": [
    "retail_raw = pd.read_csv(r\"C:\\Users\\joann\\Downloads\\retail_daily_hourly.csv\")\n",
    "retail_daily_hourly = retail_raw[['day','hour','peak_frc']]\n",
    "retail_daily_hourly"
   ]
  },
  {
   "cell_type": "code",
   "execution_count": 98,
   "metadata": {},
   "outputs": [],
   "source": [
    "# Compute mean hourly peak frc\n",
    "mean_hourly_peak_frc = retail_daily_hourly.groupby(\"hour\")[\"peak_frc\"].mean()\n",
    "\n",
    "# Define smoothing factor (alpha)\n",
    "alpha = 0.7  # More weight on recent hours\n",
    "\n",
    "# Apply exponential smoothing to get estimated demand at 22:00\n",
    "extrapolated_peak_frc = (\n",
    "    alpha * mean_hourly_peak_frc[21] +\n",
    "    (1 - alpha) * mean_hourly_peak_frc[20]\n",
    ")\n",
    "\n",
    "# Add the extrapolated value for 22:00 to mean_hourly_peak_frc\n",
    "mean_hourly_peak_frc[22] = extrapolated_peak_frc"
   ]
  },
  {
   "cell_type": "code",
   "execution_count": 99,
   "metadata": {},
   "outputs": [
    {
     "data": {
      "application/vnd.microsoft.datawrangler.viewer.v0+json": {
       "columns": [
        {
         "name": "index",
         "rawType": "int64",
         "type": "integer"
        },
        {
         "name": "hour",
         "rawType": "int64",
         "type": "integer"
        },
        {
         "name": "adjuster",
         "rawType": "float64",
         "type": "float"
        }
       ],
       "conversionMethod": "pd.DataFrame",
       "ref": "417cc962-2774-4776-ad9c-057edb05ebcc",
       "rows": [
        [
         "0",
         "9",
         "0.5898901098901098"
        ],
        [
         "1",
         "10",
         "0.7184615384615384"
        ],
        [
         "2",
         "11",
         "0.8484615384615384"
        ],
        [
         "3",
         "12",
         "0.9627472527472527"
        ],
        [
         "4",
         "13",
         "1.0256043956043954"
        ],
        [
         "5",
         "14",
         "1.0641758241758241"
        ],
        [
         "6",
         "15",
         "1.0856043956043955"
        ],
        [
         "7",
         "16",
         "1.1184615384615384"
        ],
        [
         "8",
         "17",
         "1.1713186813186813"
        ],
        [
         "9",
         "18",
         "1.2256043956043956"
        ],
        [
         "10",
         "19",
         "1.207032967032967"
        ],
        [
         "11",
         "20",
         "1.0870329670329668"
        ],
        [
         "12",
         "21",
         "0.8956043956043955"
        ],
        [
         "13",
         "22",
         "0.953032967032967"
        ]
       ],
       "shape": {
        "columns": 2,
        "rows": 14
       }
      },
      "text/html": [
       "<div>\n",
       "<style scoped>\n",
       "    .dataframe tbody tr th:only-of-type {\n",
       "        vertical-align: middle;\n",
       "    }\n",
       "\n",
       "    .dataframe tbody tr th {\n",
       "        vertical-align: top;\n",
       "    }\n",
       "\n",
       "    .dataframe thead th {\n",
       "        text-align: right;\n",
       "    }\n",
       "</style>\n",
       "<table border=\"1\" class=\"dataframe\">\n",
       "  <thead>\n",
       "    <tr style=\"text-align: right;\">\n",
       "      <th></th>\n",
       "      <th>hour</th>\n",
       "      <th>adjuster</th>\n",
       "    </tr>\n",
       "  </thead>\n",
       "  <tbody>\n",
       "    <tr>\n",
       "      <th>0</th>\n",
       "      <td>9</td>\n",
       "      <td>0.589890</td>\n",
       "    </tr>\n",
       "    <tr>\n",
       "      <th>1</th>\n",
       "      <td>10</td>\n",
       "      <td>0.718462</td>\n",
       "    </tr>\n",
       "    <tr>\n",
       "      <th>2</th>\n",
       "      <td>11</td>\n",
       "      <td>0.848462</td>\n",
       "    </tr>\n",
       "    <tr>\n",
       "      <th>3</th>\n",
       "      <td>12</td>\n",
       "      <td>0.962747</td>\n",
       "    </tr>\n",
       "    <tr>\n",
       "      <th>4</th>\n",
       "      <td>13</td>\n",
       "      <td>1.025604</td>\n",
       "    </tr>\n",
       "    <tr>\n",
       "      <th>5</th>\n",
       "      <td>14</td>\n",
       "      <td>1.064176</td>\n",
       "    </tr>\n",
       "    <tr>\n",
       "      <th>6</th>\n",
       "      <td>15</td>\n",
       "      <td>1.085604</td>\n",
       "    </tr>\n",
       "    <tr>\n",
       "      <th>7</th>\n",
       "      <td>16</td>\n",
       "      <td>1.118462</td>\n",
       "    </tr>\n",
       "    <tr>\n",
       "      <th>8</th>\n",
       "      <td>17</td>\n",
       "      <td>1.171319</td>\n",
       "    </tr>\n",
       "    <tr>\n",
       "      <th>9</th>\n",
       "      <td>18</td>\n",
       "      <td>1.225604</td>\n",
       "    </tr>\n",
       "    <tr>\n",
       "      <th>10</th>\n",
       "      <td>19</td>\n",
       "      <td>1.207033</td>\n",
       "    </tr>\n",
       "    <tr>\n",
       "      <th>11</th>\n",
       "      <td>20</td>\n",
       "      <td>1.087033</td>\n",
       "    </tr>\n",
       "    <tr>\n",
       "      <th>12</th>\n",
       "      <td>21</td>\n",
       "      <td>0.895604</td>\n",
       "    </tr>\n",
       "    <tr>\n",
       "      <th>13</th>\n",
       "      <td>22</td>\n",
       "      <td>0.953033</td>\n",
       "    </tr>\n",
       "  </tbody>\n",
       "</table>\n",
       "</div>"
      ],
      "text/plain": [
       "    hour  adjuster\n",
       "0      9  0.589890\n",
       "1     10  0.718462\n",
       "2     11  0.848462\n",
       "3     12  0.962747\n",
       "4     13  1.025604\n",
       "5     14  1.064176\n",
       "6     15  1.085604\n",
       "7     16  1.118462\n",
       "8     17  1.171319\n",
       "9     18  1.225604\n",
       "10    19  1.207033\n",
       "11    20  1.087033\n",
       "12    21  0.895604\n",
       "13    22  0.953033"
      ]
     },
     "execution_count": 99,
     "metadata": {},
     "output_type": "execute_result"
    }
   ],
   "source": [
    "# Compute overall mean peak frc\n",
    "overall_mean_peak_frc = retail_daily_hourly[\"peak_frc\"].mean()\n",
    "\n",
    "# Create DataFrame and calculate percentage difference\n",
    "mean_hourly_peak_frc = mean_hourly_peak_frc.reset_index()\n",
    "mean_hourly_peak_frc.rename(columns={\"index\": \"hour\"}, inplace=True)\n",
    "\n",
    "# Percentage difference from overall mean\n",
    "mean_hourly_peak_frc[\"pct_diff\"] = mean_hourly_peak_frc[\"peak_frc\"] - overall_mean_peak_frc\n",
    "\n",
    "# Add Adjuster\n",
    "mean_hourly_peak_frc[\"adjuster\"] = 1 + mean_hourly_peak_frc[\"pct_diff\"]\n",
    "\n",
    "adjust_hour_merch = mean_hourly_peak_frc[['hour', 'adjuster']]\n",
    "adjust_hour_merch"
   ]
  },
  {
   "cell_type": "markdown",
   "metadata": {},
   "source": [
    "#### General Service\n",
    "General Service staff includes park maintenance and cleaning staff, security, crowd management and ticketing."
   ]
  },
  {
   "cell_type": "code",
   "execution_count": 100,
   "metadata": {},
   "outputs": [
    {
     "data": {
      "application/vnd.microsoft.datawrangler.viewer.v0+json": {
       "columns": [
        {
         "name": "index",
         "rawType": "int64",
         "type": "integer"
        },
        {
         "name": "day",
         "rawType": "int64",
         "type": "integer"
        },
        {
         "name": "hour_adjusted",
         "rawType": "int64",
         "type": "integer"
        },
        {
         "name": "peak_frc",
         "rawType": "float64",
         "type": "float"
        }
       ],
       "conversionMethod": "pd.DataFrame",
       "ref": "f7648534-64a4-474f-b349-870f4a1ad9ff",
       "rows": [
        [
         "0",
         "1",
         "9",
         "0.59"
        ],
        [
         "1",
         "1",
         "10",
         "0.77"
        ],
        [
         "2",
         "1",
         "11",
         "0.88"
        ],
        [
         "3",
         "1",
         "12",
         "0.94"
        ],
        [
         "4",
         "1",
         "13",
         "0.96"
        ],
        [
         "5",
         "1",
         "14",
         "0.97"
        ],
        [
         "6",
         "1",
         "15",
         "0.98"
        ],
        [
         "7",
         "1",
         "16",
         "0.98"
        ],
        [
         "8",
         "1",
         "17",
         "0.97"
        ],
        [
         "9",
         "1",
         "18",
         "0.95"
        ],
        [
         "10",
         "1",
         "19",
         "0.9"
        ],
        [
         "11",
         "1",
         "20",
         "0.87"
        ],
        [
         "12",
         "1",
         "21",
         "0.81"
        ],
        [
         "13",
         "1",
         "22",
         "0.69"
        ],
        [
         "14",
         "2",
         "9",
         "0.55"
        ],
        [
         "15",
         "2",
         "10",
         "0.7"
        ],
        [
         "16",
         "2",
         "11",
         "0.8"
        ],
        [
         "17",
         "2",
         "12",
         "0.85"
        ],
        [
         "18",
         "2",
         "13",
         "0.88"
        ],
        [
         "19",
         "2",
         "14",
         "0.9"
        ],
        [
         "20",
         "2",
         "15",
         "0.9"
        ],
        [
         "21",
         "2",
         "16",
         "0.89"
        ],
        [
         "22",
         "2",
         "17",
         "0.88"
        ],
        [
         "23",
         "2",
         "18",
         "0.87"
        ],
        [
         "24",
         "2",
         "19",
         "0.85"
        ],
        [
         "25",
         "2",
         "20",
         "0.83"
        ],
        [
         "26",
         "2",
         "21",
         "0.78"
        ],
        [
         "27",
         "2",
         "22",
         "0.68"
        ],
        [
         "28",
         "3",
         "9",
         "0.56"
        ],
        [
         "29",
         "3",
         "10",
         "0.72"
        ],
        [
         "30",
         "3",
         "11",
         "0.82"
        ],
        [
         "31",
         "3",
         "12",
         "0.89"
        ],
        [
         "32",
         "3",
         "13",
         "0.93"
        ],
        [
         "33",
         "3",
         "14",
         "0.94"
        ],
        [
         "34",
         "3",
         "15",
         "0.94"
        ],
        [
         "35",
         "3",
         "16",
         "0.94"
        ],
        [
         "36",
         "3",
         "17",
         "0.93"
        ],
        [
         "37",
         "3",
         "18",
         "0.92"
        ],
        [
         "38",
         "3",
         "19",
         "0.91"
        ],
        [
         "39",
         "3",
         "20",
         "0.9"
        ],
        [
         "40",
         "3",
         "21",
         "0.85"
        ],
        [
         "41",
         "3",
         "22",
         "0.74"
        ],
        [
         "42",
         "4",
         "9",
         "0.59"
        ],
        [
         "43",
         "4",
         "10",
         "0.76"
        ],
        [
         "44",
         "4",
         "11",
         "0.86"
        ],
        [
         "45",
         "4",
         "12",
         "0.91"
        ],
        [
         "46",
         "4",
         "13",
         "0.94"
        ],
        [
         "47",
         "4",
         "14",
         "0.97"
        ],
        [
         "48",
         "4",
         "15",
         "0.97"
        ],
        [
         "49",
         "4",
         "16",
         "0.98"
        ]
       ],
       "shape": {
        "columns": 3,
        "rows": 98
       }
      },
      "text/html": [
       "<div>\n",
       "<style scoped>\n",
       "    .dataframe tbody tr th:only-of-type {\n",
       "        vertical-align: middle;\n",
       "    }\n",
       "\n",
       "    .dataframe tbody tr th {\n",
       "        vertical-align: top;\n",
       "    }\n",
       "\n",
       "    .dataframe thead th {\n",
       "        text-align: right;\n",
       "    }\n",
       "</style>\n",
       "<table border=\"1\" class=\"dataframe\">\n",
       "  <thead>\n",
       "    <tr style=\"text-align: right;\">\n",
       "      <th></th>\n",
       "      <th>day</th>\n",
       "      <th>hour_adjusted</th>\n",
       "      <th>peak_frc</th>\n",
       "    </tr>\n",
       "  </thead>\n",
       "  <tbody>\n",
       "    <tr>\n",
       "      <th>0</th>\n",
       "      <td>1</td>\n",
       "      <td>9</td>\n",
       "      <td>0.59</td>\n",
       "    </tr>\n",
       "    <tr>\n",
       "      <th>1</th>\n",
       "      <td>1</td>\n",
       "      <td>10</td>\n",
       "      <td>0.77</td>\n",
       "    </tr>\n",
       "    <tr>\n",
       "      <th>2</th>\n",
       "      <td>1</td>\n",
       "      <td>11</td>\n",
       "      <td>0.88</td>\n",
       "    </tr>\n",
       "    <tr>\n",
       "      <th>3</th>\n",
       "      <td>1</td>\n",
       "      <td>12</td>\n",
       "      <td>0.94</td>\n",
       "    </tr>\n",
       "    <tr>\n",
       "      <th>4</th>\n",
       "      <td>1</td>\n",
       "      <td>13</td>\n",
       "      <td>0.96</td>\n",
       "    </tr>\n",
       "    <tr>\n",
       "      <th>...</th>\n",
       "      <td>...</td>\n",
       "      <td>...</td>\n",
       "      <td>...</td>\n",
       "    </tr>\n",
       "    <tr>\n",
       "      <th>93</th>\n",
       "      <td>7</td>\n",
       "      <td>18</td>\n",
       "      <td>0.88</td>\n",
       "    </tr>\n",
       "    <tr>\n",
       "      <th>94</th>\n",
       "      <td>7</td>\n",
       "      <td>19</td>\n",
       "      <td>0.85</td>\n",
       "    </tr>\n",
       "    <tr>\n",
       "      <th>95</th>\n",
       "      <td>7</td>\n",
       "      <td>20</td>\n",
       "      <td>0.81</td>\n",
       "    </tr>\n",
       "    <tr>\n",
       "      <th>96</th>\n",
       "      <td>7</td>\n",
       "      <td>21</td>\n",
       "      <td>0.75</td>\n",
       "    </tr>\n",
       "    <tr>\n",
       "      <th>97</th>\n",
       "      <td>7</td>\n",
       "      <td>22</td>\n",
       "      <td>0.62</td>\n",
       "    </tr>\n",
       "  </tbody>\n",
       "</table>\n",
       "<p>98 rows × 3 columns</p>\n",
       "</div>"
      ],
      "text/plain": [
       "    day  hour_adjusted  peak_frc\n",
       "0     1              9      0.59\n",
       "1     1             10      0.77\n",
       "2     1             11      0.88\n",
       "3     1             12      0.94\n",
       "4     1             13      0.96\n",
       "..  ...            ...       ...\n",
       "93    7             18      0.88\n",
       "94    7             19      0.85\n",
       "95    7             20      0.81\n",
       "96    7             21      0.75\n",
       "97    7             22      0.62\n",
       "\n",
       "[98 rows x 3 columns]"
      ]
     },
     "execution_count": 100,
     "metadata": {},
     "output_type": "execute_result"
    }
   ],
   "source": [
    "park_raw = pd.read_csv(r\"C:\\Users\\joann\\Downloads\\park_daily_hourly_peaks.csv\")\n",
    "park_raw['hour_adjusted'] = park_raw['hour'] + 1\n",
    "park_daily_hourly = park_raw[['day','hour_adjusted','peak_frc']]\n",
    "park_daily_hourly"
   ]
  },
  {
   "cell_type": "code",
   "execution_count": 101,
   "metadata": {},
   "outputs": [
    {
     "name": "stderr",
     "output_type": "stream",
     "text": [
      "SettingWithCopyWarning: \n",
      "A value is trying to be set on a copy of a slice from a DataFrame.\n",
      "Try using .loc[row_indexer,col_indexer] = value instead\n",
      "\n",
      "See the caveats in the documentation: https://pandas.pydata.org/pandas-docs/stable/user_guide/indexing.html#returning-a-view-versus-a-copy\n"
     ]
    },
    {
     "data": {
      "application/vnd.microsoft.datawrangler.viewer.v0+json": {
       "columns": [
        {
         "name": "index",
         "rawType": "int64",
         "type": "integer"
        },
        {
         "name": "day",
         "rawType": "int64",
         "type": "integer"
        },
        {
         "name": "hour_adjusted",
         "rawType": "int64",
         "type": "integer"
        },
        {
         "name": "peak_frc",
         "rawType": "float64",
         "type": "float"
        },
        {
         "name": "peak_frc_diff",
         "rawType": "float64",
         "type": "float"
        }
       ],
       "conversionMethod": "pd.DataFrame",
       "ref": "54c64877-d3f6-4c40-9848-8f897c540e1b",
       "rows": [
        [
         "0",
         "1",
         "9",
         "0.59",
         "0.59"
        ],
        [
         "1",
         "1",
         "10",
         "0.77",
         "0.18000000000000005"
        ],
        [
         "2",
         "1",
         "11",
         "0.88",
         "0.10999999999999999"
        ],
        [
         "3",
         "1",
         "12",
         "0.94",
         "0.05999999999999994"
        ],
        [
         "4",
         "1",
         "13",
         "0.96",
         "0.020000000000000018"
        ],
        [
         "5",
         "1",
         "14",
         "0.97",
         "0.010000000000000009"
        ],
        [
         "6",
         "1",
         "15",
         "0.98",
         "0.010000000000000009"
        ],
        [
         "7",
         "1",
         "16",
         "0.98",
         "0.0"
        ],
        [
         "8",
         "1",
         "17",
         "0.97",
         "-0.010000000000000009"
        ],
        [
         "9",
         "1",
         "18",
         "0.95",
         "-0.020000000000000018"
        ],
        [
         "10",
         "1",
         "19",
         "0.9",
         "-0.04999999999999993"
        ],
        [
         "11",
         "1",
         "20",
         "0.87",
         "-0.030000000000000027"
        ],
        [
         "12",
         "1",
         "21",
         "0.81",
         "-0.05999999999999994"
        ],
        [
         "13",
         "1",
         "22",
         "0.69",
         "-0.1200000000000001"
        ],
        [
         "14",
         "2",
         "9",
         "0.55",
         "0.55"
        ],
        [
         "15",
         "2",
         "10",
         "0.7",
         "0.1499999999999999"
        ],
        [
         "16",
         "2",
         "11",
         "0.8",
         "0.10000000000000009"
        ],
        [
         "17",
         "2",
         "12",
         "0.85",
         "0.04999999999999993"
        ],
        [
         "18",
         "2",
         "13",
         "0.88",
         "0.030000000000000027"
        ],
        [
         "19",
         "2",
         "14",
         "0.9",
         "0.020000000000000018"
        ],
        [
         "20",
         "2",
         "15",
         "0.9",
         "0.0"
        ],
        [
         "21",
         "2",
         "16",
         "0.89",
         "-0.010000000000000009"
        ],
        [
         "22",
         "2",
         "17",
         "0.88",
         "-0.010000000000000009"
        ],
        [
         "23",
         "2",
         "18",
         "0.87",
         "-0.010000000000000009"
        ],
        [
         "24",
         "2",
         "19",
         "0.85",
         "-0.020000000000000018"
        ],
        [
         "25",
         "2",
         "20",
         "0.83",
         "-0.020000000000000018"
        ],
        [
         "26",
         "2",
         "21",
         "0.78",
         "-0.04999999999999993"
        ],
        [
         "27",
         "2",
         "22",
         "0.68",
         "-0.09999999999999998"
        ],
        [
         "28",
         "3",
         "9",
         "0.56",
         "0.56"
        ],
        [
         "29",
         "3",
         "10",
         "0.72",
         "0.15999999999999992"
        ],
        [
         "30",
         "3",
         "11",
         "0.82",
         "0.09999999999999998"
        ],
        [
         "31",
         "3",
         "12",
         "0.89",
         "0.07000000000000006"
        ],
        [
         "32",
         "3",
         "13",
         "0.93",
         "0.040000000000000036"
        ],
        [
         "33",
         "3",
         "14",
         "0.94",
         "0.009999999999999898"
        ],
        [
         "34",
         "3",
         "15",
         "0.94",
         "0.0"
        ],
        [
         "35",
         "3",
         "16",
         "0.94",
         "0.0"
        ],
        [
         "36",
         "3",
         "17",
         "0.93",
         "-0.009999999999999898"
        ],
        [
         "37",
         "3",
         "18",
         "0.92",
         "-0.010000000000000009"
        ],
        [
         "38",
         "3",
         "19",
         "0.91",
         "-0.010000000000000009"
        ],
        [
         "39",
         "3",
         "20",
         "0.9",
         "-0.010000000000000009"
        ],
        [
         "40",
         "3",
         "21",
         "0.85",
         "-0.050000000000000044"
        ],
        [
         "41",
         "3",
         "22",
         "0.74",
         "-0.10999999999999999"
        ],
        [
         "42",
         "4",
         "9",
         "0.59",
         "0.59"
        ],
        [
         "43",
         "4",
         "10",
         "0.76",
         "0.17000000000000004"
        ],
        [
         "44",
         "4",
         "11",
         "0.86",
         "0.09999999999999998"
        ],
        [
         "45",
         "4",
         "12",
         "0.91",
         "0.050000000000000044"
        ],
        [
         "46",
         "4",
         "13",
         "0.94",
         "0.029999999999999916"
        ],
        [
         "47",
         "4",
         "14",
         "0.97",
         "0.030000000000000027"
        ],
        [
         "48",
         "4",
         "15",
         "0.97",
         "0.0"
        ],
        [
         "49",
         "4",
         "16",
         "0.98",
         "0.010000000000000009"
        ]
       ],
       "shape": {
        "columns": 4,
        "rows": 98
       }
      },
      "text/html": [
       "<div>\n",
       "<style scoped>\n",
       "    .dataframe tbody tr th:only-of-type {\n",
       "        vertical-align: middle;\n",
       "    }\n",
       "\n",
       "    .dataframe tbody tr th {\n",
       "        vertical-align: top;\n",
       "    }\n",
       "\n",
       "    .dataframe thead th {\n",
       "        text-align: right;\n",
       "    }\n",
       "</style>\n",
       "<table border=\"1\" class=\"dataframe\">\n",
       "  <thead>\n",
       "    <tr style=\"text-align: right;\">\n",
       "      <th></th>\n",
       "      <th>day</th>\n",
       "      <th>hour_adjusted</th>\n",
       "      <th>peak_frc</th>\n",
       "      <th>peak_frc_diff</th>\n",
       "    </tr>\n",
       "  </thead>\n",
       "  <tbody>\n",
       "    <tr>\n",
       "      <th>0</th>\n",
       "      <td>1</td>\n",
       "      <td>9</td>\n",
       "      <td>0.59</td>\n",
       "      <td>0.59</td>\n",
       "    </tr>\n",
       "    <tr>\n",
       "      <th>1</th>\n",
       "      <td>1</td>\n",
       "      <td>10</td>\n",
       "      <td>0.77</td>\n",
       "      <td>0.18</td>\n",
       "    </tr>\n",
       "    <tr>\n",
       "      <th>2</th>\n",
       "      <td>1</td>\n",
       "      <td>11</td>\n",
       "      <td>0.88</td>\n",
       "      <td>0.11</td>\n",
       "    </tr>\n",
       "    <tr>\n",
       "      <th>3</th>\n",
       "      <td>1</td>\n",
       "      <td>12</td>\n",
       "      <td>0.94</td>\n",
       "      <td>0.06</td>\n",
       "    </tr>\n",
       "    <tr>\n",
       "      <th>4</th>\n",
       "      <td>1</td>\n",
       "      <td>13</td>\n",
       "      <td>0.96</td>\n",
       "      <td>0.02</td>\n",
       "    </tr>\n",
       "    <tr>\n",
       "      <th>...</th>\n",
       "      <td>...</td>\n",
       "      <td>...</td>\n",
       "      <td>...</td>\n",
       "      <td>...</td>\n",
       "    </tr>\n",
       "    <tr>\n",
       "      <th>93</th>\n",
       "      <td>7</td>\n",
       "      <td>18</td>\n",
       "      <td>0.88</td>\n",
       "      <td>-0.03</td>\n",
       "    </tr>\n",
       "    <tr>\n",
       "      <th>94</th>\n",
       "      <td>7</td>\n",
       "      <td>19</td>\n",
       "      <td>0.85</td>\n",
       "      <td>-0.03</td>\n",
       "    </tr>\n",
       "    <tr>\n",
       "      <th>95</th>\n",
       "      <td>7</td>\n",
       "      <td>20</td>\n",
       "      <td>0.81</td>\n",
       "      <td>-0.04</td>\n",
       "    </tr>\n",
       "    <tr>\n",
       "      <th>96</th>\n",
       "      <td>7</td>\n",
       "      <td>21</td>\n",
       "      <td>0.75</td>\n",
       "      <td>-0.06</td>\n",
       "    </tr>\n",
       "    <tr>\n",
       "      <th>97</th>\n",
       "      <td>7</td>\n",
       "      <td>22</td>\n",
       "      <td>0.62</td>\n",
       "      <td>-0.13</td>\n",
       "    </tr>\n",
       "  </tbody>\n",
       "</table>\n",
       "<p>98 rows × 4 columns</p>\n",
       "</div>"
      ],
      "text/plain": [
       "    day  hour_adjusted  peak_frc  peak_frc_diff\n",
       "0     1              9      0.59           0.59\n",
       "1     1             10      0.77           0.18\n",
       "2     1             11      0.88           0.11\n",
       "3     1             12      0.94           0.06\n",
       "4     1             13      0.96           0.02\n",
       "..  ...            ...       ...            ...\n",
       "93    7             18      0.88          -0.03\n",
       "94    7             19      0.85          -0.03\n",
       "95    7             20      0.81          -0.04\n",
       "96    7             21      0.75          -0.06\n",
       "97    7             22      0.62          -0.13\n",
       "\n",
       "[98 rows x 4 columns]"
      ]
     },
     "execution_count": 101,
     "metadata": {},
     "output_type": "execute_result"
    }
   ],
   "source": [
    "park_daily_hourly[\"prev_peak_frc\"] = park_daily_hourly.groupby(\"day\")[\"peak_frc\"].shift(fill_value=0)\n",
    "park_daily_hourly[\"peak_frc_diff\"] = park_daily_hourly[\"peak_frc\"] - park_daily_hourly[\"prev_peak_frc\"]\n",
    "park_daily_hourly = park_daily_hourly.drop(columns=[\"prev_peak_frc\"])\n",
    "park_daily_hourly"
   ]
  },
  {
   "cell_type": "code",
   "execution_count": 102,
   "metadata": {},
   "outputs": [
    {
     "data": {
      "application/vnd.microsoft.datawrangler.viewer.v0+json": {
       "columns": [
        {
         "name": "index",
         "rawType": "int64",
         "type": "integer"
        },
        {
         "name": "hour_adjusted",
         "rawType": "int64",
         "type": "integer"
        },
        {
         "name": "adjuster",
         "rawType": "float64",
         "type": "float"
        }
       ],
       "conversionMethod": "pd.DataFrame",
       "ref": "a132c2f8-40ba-4834-9e2b-f1f67669bb9b",
       "rows": [
        [
         "0",
         "9",
         "1.5285714285714285"
        ],
        [
         "1",
         "10",
         "1.1114285714285714"
        ],
        [
         "2",
         "11",
         "1.0514285714285714"
        ],
        [
         "3",
         "12",
         "1.0057142857142858"
        ],
        [
         "4",
         "13",
         "0.98"
        ],
        [
         "5",
         "14",
         "0.9685714285714285"
        ],
        [
         "6",
         "15",
         "0.9542857142857143"
        ],
        [
         "7",
         "16",
         "0.9528571428571428"
        ],
        [
         "8",
         "17",
         "0.9385714285714286"
        ],
        [
         "9",
         "18",
         "0.9314285714285715"
        ],
        [
         "10",
         "19",
         "0.9271428571428572"
        ],
        [
         "11",
         "20",
         "0.93"
        ],
        [
         "12",
         "21",
         "0.8957142857142857"
        ],
        [
         "13",
         "22",
         "0.8242857142857143"
        ]
       ],
       "shape": {
        "columns": 2,
        "rows": 14
       }
      },
      "text/html": [
       "<div>\n",
       "<style scoped>\n",
       "    .dataframe tbody tr th:only-of-type {\n",
       "        vertical-align: middle;\n",
       "    }\n",
       "\n",
       "    .dataframe tbody tr th {\n",
       "        vertical-align: top;\n",
       "    }\n",
       "\n",
       "    .dataframe thead th {\n",
       "        text-align: right;\n",
       "    }\n",
       "</style>\n",
       "<table border=\"1\" class=\"dataframe\">\n",
       "  <thead>\n",
       "    <tr style=\"text-align: right;\">\n",
       "      <th></th>\n",
       "      <th>hour_adjusted</th>\n",
       "      <th>adjuster</th>\n",
       "    </tr>\n",
       "  </thead>\n",
       "  <tbody>\n",
       "    <tr>\n",
       "      <th>0</th>\n",
       "      <td>9</td>\n",
       "      <td>1.528571</td>\n",
       "    </tr>\n",
       "    <tr>\n",
       "      <th>1</th>\n",
       "      <td>10</td>\n",
       "      <td>1.111429</td>\n",
       "    </tr>\n",
       "    <tr>\n",
       "      <th>2</th>\n",
       "      <td>11</td>\n",
       "      <td>1.051429</td>\n",
       "    </tr>\n",
       "    <tr>\n",
       "      <th>3</th>\n",
       "      <td>12</td>\n",
       "      <td>1.005714</td>\n",
       "    </tr>\n",
       "    <tr>\n",
       "      <th>4</th>\n",
       "      <td>13</td>\n",
       "      <td>0.980000</td>\n",
       "    </tr>\n",
       "    <tr>\n",
       "      <th>5</th>\n",
       "      <td>14</td>\n",
       "      <td>0.968571</td>\n",
       "    </tr>\n",
       "    <tr>\n",
       "      <th>6</th>\n",
       "      <td>15</td>\n",
       "      <td>0.954286</td>\n",
       "    </tr>\n",
       "    <tr>\n",
       "      <th>7</th>\n",
       "      <td>16</td>\n",
       "      <td>0.952857</td>\n",
       "    </tr>\n",
       "    <tr>\n",
       "      <th>8</th>\n",
       "      <td>17</td>\n",
       "      <td>0.938571</td>\n",
       "    </tr>\n",
       "    <tr>\n",
       "      <th>9</th>\n",
       "      <td>18</td>\n",
       "      <td>0.931429</td>\n",
       "    </tr>\n",
       "    <tr>\n",
       "      <th>10</th>\n",
       "      <td>19</td>\n",
       "      <td>0.927143</td>\n",
       "    </tr>\n",
       "    <tr>\n",
       "      <th>11</th>\n",
       "      <td>20</td>\n",
       "      <td>0.930000</td>\n",
       "    </tr>\n",
       "    <tr>\n",
       "      <th>12</th>\n",
       "      <td>21</td>\n",
       "      <td>0.895714</td>\n",
       "    </tr>\n",
       "    <tr>\n",
       "      <th>13</th>\n",
       "      <td>22</td>\n",
       "      <td>0.824286</td>\n",
       "    </tr>\n",
       "  </tbody>\n",
       "</table>\n",
       "</div>"
      ],
      "text/plain": [
       "    hour_adjusted  adjuster\n",
       "0               9  1.528571\n",
       "1              10  1.111429\n",
       "2              11  1.051429\n",
       "3              12  1.005714\n",
       "4              13  0.980000\n",
       "5              14  0.968571\n",
       "6              15  0.954286\n",
       "7              16  0.952857\n",
       "8              17  0.938571\n",
       "9              18  0.931429\n",
       "10             19  0.927143\n",
       "11             20  0.930000\n",
       "12             21  0.895714\n",
       "13             22  0.824286"
      ]
     },
     "execution_count": 102,
     "metadata": {},
     "output_type": "execute_result"
    }
   ],
   "source": [
    "# Compute mean hourly peak frc\n",
    "park_mean_hourly_peaks = park_daily_hourly.groupby(\"hour_adjusted\")[\"peak_frc_diff\"].mean()\n",
    "\n",
    "# Compute overall mean peak frc\n",
    "overall_park_mean_peaks = park_daily_hourly[\"peak_frc_diff\"].mean()\n",
    "\n",
    "# Create DataFrame and calculate percentage difference\n",
    "park_mean_hourly_peaks = park_mean_hourly_peaks.reset_index()\n",
    "park_mean_hourly_peaks.rename(columns={\"index\": \"hour_adjusted\"}, inplace=True)\n",
    "\n",
    "# Percentage Difference from overall mean\n",
    "park_mean_hourly_peaks[\"pct_diff\"] = park_mean_hourly_peaks[\"peak_frc_diff\"] - overall_park_mean_peaks\n",
    "\n",
    "# Add Adjuster\n",
    "park_mean_hourly_peaks[\"adjuster\"] = 1 + park_mean_hourly_peaks[\"pct_diff\"]\n",
    "\n",
    "adjust_hour_general = park_mean_hourly_peaks[['hour_adjusted', 'adjuster']]\n",
    "adjust_hour_general"
   ]
  },
  {
   "cell_type": "markdown",
   "metadata": {},
   "source": [
    "### By public holiday\n",
    "Data obtained from `attendance.csv`"
   ]
  },
  {
   "cell_type": "code",
   "execution_count": 73,
   "metadata": {},
   "outputs": [],
   "source": [
    "#PortAventura World\n",
    "portaventura_df = attendance_data[attendance_data[\"FACILITY_NAME\"] == \"PortAventura World\"]\n",
    "\n",
    "#Tivoli Gardens\t\n",
    "tivoli_df = attendance_data[attendance_data[\"FACILITY_NAME\"] == \"Tivoli Gardens\"]"
   ]
  },
  {
   "cell_type": "code",
   "execution_count": 74,
   "metadata": {},
   "outputs": [
    {
     "name": "stdout",
     "output_type": "stream",
     "text": [
      "Overall mean daily attendance for PortAventura: 34939.69373942471\n",
      "Average attendance for PortAventura on holidays: 43767.57692307692\n",
      "Average attendance for PortAventura on non-holidays: 34741.14273356401\n",
      "Adjuster for Public Holidays in Spain: 0.2526605770928995\n",
      "Adjuster for Non Public Holidays in Spain: -0.005682677339459851\n"
     ]
    },
    {
     "name": "stderr",
     "output_type": "stream",
     "text": [
      "SettingWithCopyWarning: \n",
      "A value is trying to be set on a copy of a slice from a DataFrame.\n",
      "Try using .loc[row_indexer,col_indexer] = value instead\n",
      "\n",
      "See the caveats in the documentation: https://pandas.pydata.org/pandas-docs/stable/user_guide/indexing.html#returning-a-view-versus-a-copy\n"
     ]
    }
   ],
   "source": [
    "# SPAIN\n",
    "spain_holidays = holidays.Spain(years=[2018, 2019, 2020, 2021, 2022])\n",
    "portaventura_df[\"is_holiday\"] = portaventura_df[\"USAGE_DATE\"].apply(lambda x: x in spain_holidays)\n",
    "\n",
    "#Check average attendance on holidays\n",
    "overall_daily_attendance = portaventura_df[\"attendance\"].mean()\n",
    "holiday_attendance = portaventura_df[portaventura_df[\"is_holiday\"] == True][\"attendance\"].mean()\n",
    "non_holiday_attendance = portaventura_df[portaventura_df[\"is_holiday\"] == False][\"attendance\"].mean()\n",
    "\n",
    "print(f\"Overall mean daily attendance for PortAventura: {overall_daily_attendance}\")\n",
    "print(f\"Average attendance for PortAventura on holidays: {holiday_attendance}\")\n",
    "print(f\"Average attendance for PortAventura on non-holidays: {non_holiday_attendance}\")\n",
    "\n",
    "ph_adjuster_spain = (holiday_attendance - overall_daily_attendance) / overall_daily_attendance\n",
    "non_ph_adjuster_spain = (non_holiday_attendance - overall_daily_attendance) / overall_daily_attendance\n",
    "\n",
    "print(f\"Adjuster for Public Holidays in Spain: {ph_adjuster_spain}\")\n",
    "print(f\"Adjuster for Non Public Holidays in Spain: {non_ph_adjuster_spain}\")"
   ]
  },
  {
   "cell_type": "code",
   "execution_count": 75,
   "metadata": {},
   "outputs": [
    {
     "name": "stdout",
     "output_type": "stream",
     "text": [
      "Overall mean daily attendance for Tivoli: 17345.38227848101\n",
      "Average attendance for Tivoli on holidays: 25439.96\n",
      "Average attendance for Tivoli on non-holidays: 17170.93017241379\n",
      "Adjuster for Public Holidays in Denmark: 0.4666704712274497\n",
      "Adjuster for Non Public Holidays in Denmark: -0.010057553259212277\n"
     ]
    },
    {
     "name": "stderr",
     "output_type": "stream",
     "text": [
      "SettingWithCopyWarning: \n",
      "A value is trying to be set on a copy of a slice from a DataFrame.\n",
      "Try using .loc[row_indexer,col_indexer] = value instead\n",
      "\n",
      "See the caveats in the documentation: https://pandas.pydata.org/pandas-docs/stable/user_guide/indexing.html#returning-a-view-versus-a-copy\n"
     ]
    }
   ],
   "source": [
    "# DENMARK\n",
    "denmark_holidays = holidays.Denmark(years=[2018, 2019, 2020, 2021, 2022])\n",
    "tivoli_df[\"is_holiday\"] = tivoli_df[\"USAGE_DATE\"].apply(lambda x: x in denmark_holidays)\n",
    "\n",
    "#Check average attendance on holidays\n",
    "overall_daily_attendance = tivoli_df[\"attendance\"].mean()\n",
    "holiday_attendance = tivoli_df[tivoli_df[\"is_holiday\"] == True][\"attendance\"].mean()\n",
    "non_holiday_attendance = tivoli_df[tivoli_df[\"is_holiday\"] == False][\"attendance\"].mean()\n",
    "\n",
    "print(f\"Overall mean daily attendance for Tivoli: {overall_daily_attendance}\")\n",
    "print(f\"Average attendance for Tivoli on holidays: {holiday_attendance}\")\n",
    "print(f\"Average attendance for Tivoli on non-holidays: {non_holiday_attendance}\")\n",
    "\n",
    "ph_adjuster_denmark = (holiday_attendance - overall_daily_attendance) / overall_daily_attendance\n",
    "non_ph_adjuster_denmark = (non_holiday_attendance - overall_daily_attendance) / overall_daily_attendance\n",
    "\n",
    "print(f\"Adjuster for Public Holidays in Denmark: {ph_adjuster_denmark}\")\n",
    "print(f\"Adjuster for Non Public Holidays in Denmark: {non_ph_adjuster_denmark}\")"
   ]
  },
  {
   "cell_type": "code",
   "execution_count": 76,
   "metadata": {},
   "outputs": [
    {
     "name": "stdout",
     "output_type": "stream",
     "text": [
      "Public Holiday Adjuster: 1.3596655241601745\n",
      "Non Public Holiday Adjuster: 0.992129884700664\n"
     ]
    }
   ],
   "source": [
    "adjust_pubhol = 1 + (np.mean([ph_adjuster_denmark, ph_adjuster_spain]))\n",
    "adjust_no_pubhol = 1 + (np.mean([non_ph_adjuster_denmark, non_ph_adjuster_spain]))\n",
    "\n",
    "print(f\"Public Holiday Adjuster: {adjust_pubhol}\")\n",
    "print(f\"Non Public Holiday Adjuster: {adjust_no_pubhol}\")"
   ]
  },
  {
   "cell_type": "markdown",
   "metadata": {},
   "source": [
    "### By rain forecast"
   ]
  },
  {
   "cell_type": "code",
   "execution_count": 77,
   "metadata": {},
   "outputs": [
    {
     "name": "stderr",
     "output_type": "stream",
     "text": [
      "SettingWithCopyWarning: \n",
      "A value is trying to be set on a copy of a slice from a DataFrame.\n",
      "Try using .loc[row_indexer,col_indexer] = value instead\n",
      "\n",
      "See the caveats in the documentation: https://pandas.pydata.org/pandas-docs/stable/user_guide/indexing.html#returning-a-view-versus-a-copy\n"
     ]
    }
   ],
   "source": [
    "## Weather Data\n",
    "# Define location coordinates for Disneyland Orlando (appropriate for main dataset)\n",
    "latitude = 28.3772\n",
    "longitude = -81.5707\n",
    "altitude = None \n",
    "\n",
    "start_date = '2018-01-01' \n",
    "end_date = '2022-08-31'  \n",
    "\n",
    "start = pd.to_datetime(start_date)\n",
    "end = pd.to_datetime(end_date)\n",
    "\n",
    "location = Point(latitude, longitude, altitude)\n",
    "\n",
    "# daily weather data\n",
    "weather_data = Daily(location, start, end).fetch()\n",
    "\n",
    "# Categorizing the weather based on precipitation levels\n",
    "weather_data = weather_data.fillna(0)\n",
    "def categorize_weather(df):\n",
    "    df[\"Rainy\"] = (df[\"prcp\"] > 0).astype(int)\n",
    "    return df\n",
    "weather_data = categorize_weather(weather_data)\n",
    "\n",
    "weather_data_timestamped = weather_data.reset_index()\n",
    "\n",
    "weather_data_timestamped.head()\n",
    "\n",
    "## Attendance Data\n",
    "rides_hourly_demand['date'] = rides_hourly_demand['DEB_TIME'].dt.date\n",
    "\n",
    "# Aggregate the data by date and sum the guests_carried\n",
    "attendance_by_date = rides_hourly_demand.groupby('date')['GUEST_CARRIED'].sum().reset_index()\n",
    "\n",
    "# Rename columns for clarity\n",
    "attendance_by_date.rename(columns={'GUEST_CARRIED': 'TOTAL_GUESTS_CARRIED'}, inplace=True)\n",
    "\n",
    "attendance_by_date['date'] = pd.to_datetime(attendance_by_date['date'])"
   ]
  },
  {
   "cell_type": "code",
   "execution_count": 78,
   "metadata": {},
   "outputs": [
    {
     "data": {
      "application/vnd.microsoft.datawrangler.viewer.v0+json": {
       "columns": [
        {
         "name": "index",
         "rawType": "int64",
         "type": "integer"
        },
        {
         "name": "date",
         "rawType": "datetime64[ns]",
         "type": "datetime"
        },
        {
         "name": "TOTAL_GUESTS_CARRIED",
         "rawType": "float64",
         "type": "float"
        },
        {
         "name": "Rainy",
         "rawType": "int32",
         "type": "integer"
        }
       ],
       "conversionMethod": "pd.DataFrame",
       "ref": "d87e6591-4b6c-4215-a0fc-7d9a2ac2d27e",
       "rows": [
        [
         "0",
         "2018-01-01 00:00:00",
         "212634.834",
         "0"
        ],
        [
         "1",
         "2018-01-02 00:00:00",
         "266828.6609",
         "0"
        ],
        [
         "2",
         "2018-01-03 00:00:00",
         "235157.1333",
         "0"
        ],
        [
         "3",
         "2018-01-04 00:00:00",
         "261887.1636",
         "0"
        ],
        [
         "4",
         "2018-01-05 00:00:00",
         "270942.473",
         "0"
        ]
       ],
       "shape": {
        "columns": 3,
        "rows": 5
       }
      },
      "text/html": [
       "<div>\n",
       "<style scoped>\n",
       "    .dataframe tbody tr th:only-of-type {\n",
       "        vertical-align: middle;\n",
       "    }\n",
       "\n",
       "    .dataframe tbody tr th {\n",
       "        vertical-align: top;\n",
       "    }\n",
       "\n",
       "    .dataframe thead th {\n",
       "        text-align: right;\n",
       "    }\n",
       "</style>\n",
       "<table border=\"1\" class=\"dataframe\">\n",
       "  <thead>\n",
       "    <tr style=\"text-align: right;\">\n",
       "      <th></th>\n",
       "      <th>date</th>\n",
       "      <th>TOTAL_GUESTS_CARRIED</th>\n",
       "      <th>Rainy</th>\n",
       "    </tr>\n",
       "  </thead>\n",
       "  <tbody>\n",
       "    <tr>\n",
       "      <th>0</th>\n",
       "      <td>2018-01-01</td>\n",
       "      <td>212634.8340</td>\n",
       "      <td>0</td>\n",
       "    </tr>\n",
       "    <tr>\n",
       "      <th>1</th>\n",
       "      <td>2018-01-02</td>\n",
       "      <td>266828.6609</td>\n",
       "      <td>0</td>\n",
       "    </tr>\n",
       "    <tr>\n",
       "      <th>2</th>\n",
       "      <td>2018-01-03</td>\n",
       "      <td>235157.1333</td>\n",
       "      <td>0</td>\n",
       "    </tr>\n",
       "    <tr>\n",
       "      <th>3</th>\n",
       "      <td>2018-01-04</td>\n",
       "      <td>261887.1636</td>\n",
       "      <td>0</td>\n",
       "    </tr>\n",
       "    <tr>\n",
       "      <th>4</th>\n",
       "      <td>2018-01-05</td>\n",
       "      <td>270942.4730</td>\n",
       "      <td>0</td>\n",
       "    </tr>\n",
       "  </tbody>\n",
       "</table>\n",
       "</div>"
      ],
      "text/plain": [
       "        date  TOTAL_GUESTS_CARRIED  Rainy\n",
       "0 2018-01-01           212634.8340      0\n",
       "1 2018-01-02           266828.6609      0\n",
       "2 2018-01-03           235157.1333      0\n",
       "3 2018-01-04           261887.1636      0\n",
       "4 2018-01-05           270942.4730      0"
      ]
     },
     "execution_count": 78,
     "metadata": {},
     "output_type": "execute_result"
    }
   ],
   "source": [
    "## Merge Datasets\n",
    "weather_merging = attendance_by_date.merge(\n",
    "    weather_data_timestamped[['time', 'Rainy']],\n",
    "    left_on='date',\n",
    "    right_on='time',\n",
    "    how='left'\n",
    ")\n",
    "\n",
    "weather_merged = weather_merging[['date', 'TOTAL_GUESTS_CARRIED', 'Rainy']]\n",
    "\n",
    "weather_merged.head()"
   ]
  },
  {
   "cell_type": "code",
   "execution_count": 79,
   "metadata": {},
   "outputs": [
    {
     "data": {
      "application/vnd.microsoft.datawrangler.viewer.v0+json": {
       "columns": [
        {
         "name": "index",
         "rawType": "int64",
         "type": "integer"
        },
        {
         "name": "Rainy",
         "rawType": "int32",
         "type": "integer"
        },
        {
         "name": "adjuster_rain",
         "rawType": "float64",
         "type": "float"
        }
       ],
       "conversionMethod": "pd.DataFrame",
       "ref": "c8485d5b-70b2-4a21-987b-0b5f056660ec",
       "rows": [
        [
         "0",
         "0",
         "0.9806690648754139"
        ],
        [
         "1",
         "1",
         "1.035423857665489"
        ]
       ],
       "shape": {
        "columns": 2,
        "rows": 2
       }
      },
      "text/html": [
       "<div>\n",
       "<style scoped>\n",
       "    .dataframe tbody tr th:only-of-type {\n",
       "        vertical-align: middle;\n",
       "    }\n",
       "\n",
       "    .dataframe tbody tr th {\n",
       "        vertical-align: top;\n",
       "    }\n",
       "\n",
       "    .dataframe thead th {\n",
       "        text-align: right;\n",
       "    }\n",
       "</style>\n",
       "<table border=\"1\" class=\"dataframe\">\n",
       "  <thead>\n",
       "    <tr style=\"text-align: right;\">\n",
       "      <th></th>\n",
       "      <th>Rainy</th>\n",
       "      <th>adjuster_rain</th>\n",
       "    </tr>\n",
       "  </thead>\n",
       "  <tbody>\n",
       "    <tr>\n",
       "      <th>0</th>\n",
       "      <td>0</td>\n",
       "      <td>0.980669</td>\n",
       "    </tr>\n",
       "    <tr>\n",
       "      <th>1</th>\n",
       "      <td>1</td>\n",
       "      <td>1.035424</td>\n",
       "    </tr>\n",
       "  </tbody>\n",
       "</table>\n",
       "</div>"
      ],
      "text/plain": [
       "   Rainy  adjuster_rain\n",
       "0      0       0.980669\n",
       "1      1       1.035424"
      ]
     },
     "execution_count": 79,
     "metadata": {},
     "output_type": "execute_result"
    }
   ],
   "source": [
    "# Group by the 'Rainy' column and calculate the mean of 'total guests carried'\n",
    "mean_guests_by_rain = weather_merged.groupby('Rainy')['TOTAL_GUESTS_CARRIED'].mean().reset_index()\n",
    "\n",
    "# Rename the column for clarity\n",
    "overall_mean = weather_merged['TOTAL_GUESTS_CARRIED'].mean()\n",
    "mean_guests_by_rain.rename(columns={'TOTAL_GUESTS_CARRIED': 'mean_total_guests_carried'}, inplace=True)\n",
    "mean_guests_by_rain['pct_diff_from_overall'] = (mean_guests_by_rain['mean_total_guests_carried'] - overall_mean) / overall_mean\n",
    "\n",
    "mean_guests_by_rain[\"adjuster_rain\"] = (1 + mean_guests_by_rain[\"pct_diff_from_overall\"])\n",
    "\n",
    "adjust_rain = mean_guests_by_rain[[\"Rainy\", \"adjuster_rain\"]]\n",
    "adjust_rain"
   ]
  },
  {
   "cell_type": "markdown",
   "metadata": {},
   "source": [
    "## Optimization"
   ]
  },
  {
   "cell_type": "markdown",
   "metadata": {},
   "source": [
    "### Adjuster"
   ]
  },
  {
   "cell_type": "code",
   "execution_count": null,
   "metadata": {},
   "outputs": [
    {
     "data": {
      "text/plain": [
       "{0: 0.9806690648754139, 1: 1.035423857665489}"
      ]
     },
     "execution_count": 113,
     "metadata": {},
     "output_type": "execute_result"
    }
   ],
   "source": [
    "# Adjustment Multipliers\n",
    "hour_adjuster_rides = adjust_hour_rides.set_index('DEB_TIME_HOUR')['adjuster_hourly_rides'].to_dict()\n",
    "hour_adjuster_eatery = adjust_hour_eatery.set_index('hour')['adjuster'].to_dict()\n",
    "hour_adjuster_merch = adjust_hour_merch.set_index('hour')['adjuster'].to_dict()\n",
    "hour_adjuster_general = adjust_hour_general.set_index('hour_adjusted')['adjuster'].to_dict()\n",
    "month_day_adjuster = adjust_month_day.set_index(['Month', 'Day_of_Week'])['adjuster_month_day'].to_dict()\n",
    "public_holiday_adjuster = {0: adjust_no_pubhol, 1: adjust_pubhol}\n",
    "rain_adjuster = adjust_rain.set_index('Rainy')['adjuster_rain'].to_dict()"
   ]
  },
  {
   "cell_type": "markdown",
   "metadata": {},
   "source": [
    "### Optimization Model"
   ]
  },
  {
   "cell_type": "markdown",
   "metadata": {},
   "source": [
    "**Optimization Problem: Minimize the number of staff deployed at any given time**\n",
    "\n",
    "Convex Optimization has been used as this optimization problem is a dynamic one.\n",
    "\n",
    "____ \n",
    "Old markdown below\n",
    "Assumptions that have been made:\n",
    "- Each staff can serve 20 guests\n",
    "- All staff members incur the same cost to the theme park, hence costs can be omitted from the model\n",
    "- **Hypothetical data has been used for now**\n",
    "- There are some staff required during park closing hours\n",
    "\n",
    "Data required:\n",
    "- predicted demand for each month\n",
    "- average predicted surge in attendance during all special events\n",
    "- average peak periods in a day, surge in each hour"
   ]
  },
  {
   "cell_type": "code",
   "execution_count": 85,
   "metadata": {},
   "outputs": [],
   "source": [
    "base_demand = 10000"
   ]
  },
  {
   "cell_type": "code",
   "execution_count": null,
   "metadata": {},
   "outputs": [],
   "source": [
    "def optimize_staffing(month, day, rain, public_holiday):\n",
    "    # Convert month name to number\n",
    "    month_num = list(calendar.month_name).index(month)  # January is 1, February is 2, etc.\n",
    "    days = ['Monday', 'Tuesday', 'Wednesday', 'Thursday', 'Friday', 'Saturday', 'Sunday']\n",
    "\n",
    "    if month_num == 0:  # Handle invalid month (0 means not found)\n",
    "        print(\"Invalid month\")\n",
    "        return None\n",
    "\n",
    "    if day not in days:  # Check if the provided day is valid\n",
    "        print(\"Invalid day\")\n",
    "        return None\n",
    "\n",
    "    # Combined month and day as a key (month_num, day)\n",
    "    month_day_key = (month_num, day)\n",
    "\n",
    "    # Decision variables for staffing per combined month-day and each hour\n",
    "    staff = {(month_day_key, hour): cp.Variable(nonneg=True) for hour in range(9, 23)}  # From 9 AM to 10 PM\n",
    "\n",
    "    # Get multipliers\n",
    "    month_day_multiplier = month_day_adjuster.get(month_day_key, 1)  # Default to 1 if not found\n",
    "    public_holiday_multiplier = public_holiday_adjuster[int(public_holiday)]  # Public holiday adjustment\n",
    "    rain_multiplier = rain_adjuster[int(rain)]  # Rain adjustment\n",
    "\n",
    "    # Constraints: Ensure sufficient staff for predicted demand\n",
    "    constraints = []\n",
    "    for hour in range(9, 23):  # Loop from 9 AM to 10 PM (inclusive)\n",
    "        hour_multiplier = hour_adjuster_rides.get(hour, 1)  # Default to 1 if not found in hour_adjuster\n",
    "        adjusted_demand = (base_demand * month_day_multiplier * hour_multiplier *\n",
    "                            public_holiday_multiplier * rain_multiplier)\n",
    "\n",
    "        # Set the constraint for the staffing level\n",
    "        constraints.append(staff[(month_day_key, hour)] >= adjusted_demand / 20)\n",
    "\n",
    "    # Define objective function: Minimize total number of staff\n",
    "    objective = cp.Minimize(cp.sum([staff[(month_day_key, hour)] for hour in range(9, 23)]))  # Minimize staff from 9 AM to 10 PM\n",
    "\n",
    "    # Solve the optimization problem\n",
    "    problem = cp.Problem(objective, constraints)\n",
    "    problem.solve()\n",
    "\n",
    "    # Check if the problem was solved successfully\n",
    "    if problem.status == cp.OPTIMAL:\n",
    "        # Extract optimized staffing levels\n",
    "        optimized_staffing = {(month_day_key, hour): staff[(month_day_key, hour)].value for hour in range(9, 23)}\n",
    "\n",
    "        # Convert results into DataFrame for visualization\n",
    "        staff_schedule = pd.DataFrame([(month, day, hour, v, rain, public_holiday)\n",
    "                                       for ((month_num, day), hour), v in optimized_staffing.items()],\n",
    "                                      columns=['Month', 'Day', 'Hour', 'Staff', 'Rain', 'Public Holiday'])\n",
    "        return staff_schedule\n",
    "\n",
    "    else:\n",
    "        print(\"Optimization failed:\", problem.status)\n",
    "        return None"
   ]
  },
  {
   "cell_type": "code",
   "execution_count": 83,
   "metadata": {},
   "outputs": [],
   "source": [
    "# Visualization\n",
    "def plot_staffing(staff_schedule, month, day, rain, public_holiday):\n",
    "    if staff_schedule is None:\n",
    "        print(\"No staffing data available for visualisation.\")\n",
    "        return\n",
    "    \n",
    "    plot_data = staff_schedule[(staff_schedule['Month'] == month) & (staff_schedule[\"Day\"] == day)]\n",
    "\n",
    "    plt.figure(figsize = (10,5))\n",
    "    sns.barplot(data=plot_data, x=\"Hour\", y=\"Staff\", palette=\"viridis\", hue=\"Staff\")\n",
    "    plt.title(f\"Optimized Staffing for {day} in {month} — Rides\")\n",
    "    plt.suptitle(f\"Rain: {'Yes' if rain else 'No'} | Public Holiday: {'Yes' if public_holiday else 'No'}\", fontsize=10, color='gray')\n",
    "    plt.xlabel(\"Hour of Day\")\n",
    "    plt.ylabel(\"Number of Staff\")\n",
    "    plt.show"
   ]
  },
  {
   "cell_type": "markdown",
   "metadata": {},
   "source": [
    "## Optimization Model Results"
   ]
  },
  {
   "cell_type": "code",
   "execution_count": 84,
   "metadata": {},
   "outputs": [
    {
     "name": "stdout",
     "output_type": "stream",
     "text": [
      "       Month        Day  Hour       Staff   Rain  Public Holiday\n",
      "0   December  Wednesday     9  330.362307  False           False\n",
      "1   December  Wednesday    10  601.896517  False           False\n",
      "2   December  Wednesday    11  661.787844  False           False\n",
      "3   December  Wednesday    12  654.185356  False           False\n",
      "4   December  Wednesday    13  654.718625  False           False\n",
      "5   December  Wednesday    14  654.590974  False           False\n",
      "6   December  Wednesday    15  651.738544  False           False\n",
      "7   December  Wednesday    16  629.713554  False           False\n",
      "8   December  Wednesday    17  558.641765  False           False\n",
      "9   December  Wednesday    18  480.023233  False           False\n",
      "10  December  Wednesday    19  363.450719  False           False\n",
      "11  December  Wednesday    20  232.156169  False           False\n",
      "12  December  Wednesday    21  152.562273  False           False\n",
      "13  December  Wednesday    22   66.628704  False           False\n"
     ]
    },
    {
     "data": {
      "image/png": "[encoded data removed]",
      "text/plain": [
       "<Figure size 1000x500 with 1 Axes>"
      ]
     },
     "metadata": {},
     "output_type": "display_data"
    }
   ],
   "source": [
    "selected_month = \"December\"\n",
    "selected_day = \"Wednesday\"\n",
    "rain_status = False\n",
    "public_holiday_status = False\n",
    "\n",
    "staff_schedule = optimize_staffing(selected_month, selected_day, rain_status, public_holiday_status)\n",
    "print(staff_schedule)\n",
    "plot_staffing(staff_schedule, selected_month, selected_day, rain_status, public_holiday_status)"
   ]
  }
 ],
 "metadata": {
  "kernelspec": {
   "display_name": "base",
   "language": "python",
   "name": "python3"
  },
  "language_info": {
   "codemirror_mode": {
    "name": "ipython",
    "version": 3
   },
   "file_extension": ".py",
   "mimetype": "text/x-python",
   "name": "python",
   "nbconvert_exporter": "python",
   "pygments_lexer": "ipython3",
   "version": "3.12.7"
  }
 },
 "nbformat": 4,
 "nbformat_minor": 4
}
